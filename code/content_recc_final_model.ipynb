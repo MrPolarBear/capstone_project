{
 "cells": [
  {
   "cell_type": "code",
   "execution_count": 1,
   "metadata": {},
   "outputs": [],
   "source": [
    "import numpy as np \n",
    "import os \n",
    "import pandas as pd \n",
    "import re\n",
    "import string\n",
    "import seaborn as sns\n",
    "from rake_nltk import Rake\n",
    "import sklearn\n",
    "from sklearn.feature_extraction.text import CountVectorizer\n",
    "from sklearn.metrics.pairwise import cosine_similarity\n",
    "from scipy.sparse import vstack"
   ]
  },
  {
   "cell_type": "code",
   "execution_count": 2,
   "metadata": {},
   "outputs": [],
   "source": [
    "df_anime = pd.read_csv(\"../data/df_anime_export.csv\")"
   ]
  },
  {
   "cell_type": "markdown",
   "metadata": {},
   "source": [
    "## View Resetter"
   ]
  },
  {
   "cell_type": "code",
   "execution_count": null,
   "metadata": {},
   "outputs": [],
   "source": [
    "pd.set_option('display.max_columns', None)\n",
    "pd.set_option('display.max_rows', None)\n",
    "pd.set_option('display.max_colwidth', None)"
   ]
  },
  {
   "cell_type": "code",
   "execution_count": null,
   "metadata": {},
   "outputs": [],
   "source": [
    "pd.reset_option('display.max_columns')\n",
    "pd.reset_option('display.max_rows')\n",
    "pd.reset_option('display.max_colwidth')"
   ]
  },
  {
   "cell_type": "markdown",
   "metadata": {},
   "source": [
    "## Cleaning anime_df a bit more "
   ]
  },
  {
   "cell_type": "code",
   "execution_count": 3,
   "metadata": {},
   "outputs": [
    {
     "data": {
      "text/html": [
       "<div>\n",
       "<style scoped>\n",
       "    .dataframe tbody tr th:only-of-type {\n",
       "        vertical-align: middle;\n",
       "    }\n",
       "\n",
       "    .dataframe tbody tr th {\n",
       "        vertical-align: top;\n",
       "    }\n",
       "\n",
       "    .dataframe thead th {\n",
       "        text-align: right;\n",
       "    }\n",
       "</style>\n",
       "<table border=\"1\" class=\"dataframe\">\n",
       "  <thead>\n",
       "    <tr style=\"text-align: right;\">\n",
       "      <th></th>\n",
       "      <th>Unnamed: 0</th>\n",
       "      <th>uid</th>\n",
       "      <th>title</th>\n",
       "      <th>synopsis</th>\n",
       "      <th>genre</th>\n",
       "      <th>aired</th>\n",
       "      <th>episodes</th>\n",
       "      <th>members</th>\n",
       "      <th>popularity</th>\n",
       "      <th>ranked</th>\n",
       "      <th>score</th>\n",
       "      <th>synopsis_processed</th>\n",
       "    </tr>\n",
       "  </thead>\n",
       "  <tbody>\n",
       "    <tr>\n",
       "      <th>0</th>\n",
       "      <td>0</td>\n",
       "      <td>28891</td>\n",
       "      <td>Haikyuu!! Second Season</td>\n",
       "      <td>Following their participation at the Inter-Hig...</td>\n",
       "      <td>['Comedy', 'Sports', 'Drama', 'School', 'Shoun...</td>\n",
       "      <td>Oct 4, 2015 to Mar 27, 2016</td>\n",
       "      <td>25.0</td>\n",
       "      <td>489888</td>\n",
       "      <td>141</td>\n",
       "      <td>25.0</td>\n",
       "      <td>8.82</td>\n",
       "      <td>following participation inter-high , karasuno ...</td>\n",
       "    </tr>\n",
       "  </tbody>\n",
       "</table>\n",
       "</div>"
      ],
      "text/plain": [
       "   Unnamed: 0    uid                    title  \\\n",
       "0           0  28891  Haikyuu!! Second Season   \n",
       "\n",
       "                                            synopsis  \\\n",
       "0  Following their participation at the Inter-Hig...   \n",
       "\n",
       "                                               genre  \\\n",
       "0  ['Comedy', 'Sports', 'Drama', 'School', 'Shoun...   \n",
       "\n",
       "                         aired  episodes  members  popularity  ranked  score  \\\n",
       "0  Oct 4, 2015 to Mar 27, 2016      25.0   489888         141    25.0   8.82   \n",
       "\n",
       "                                  synopsis_processed  \n",
       "0  following participation inter-high , karasuno ...  "
      ]
     },
     "execution_count": 3,
     "metadata": {},
     "output_type": "execute_result"
    }
   ],
   "source": [
    "df_anime.head(1)"
   ]
  },
  {
   "cell_type": "code",
   "execution_count": 4,
   "metadata": {},
   "outputs": [],
   "source": [
    "for i, genre in enumerate(df_anime['genre']):\n",
    "    df_anime.at[i, 'genre'] = genre.replace('Martial Arts', 'Martial_Arts')\n",
    "    df_anime.at[i, 'genre'] = genre.replace('Super Power', 'Super_Power')\n",
    "    df_anime.at[i, 'genre'] = genre.replace('Slice of Life', 'Slice_of_Life')"
   ]
  },
  {
   "cell_type": "code",
   "execution_count": 5,
   "metadata": {},
   "outputs": [
    {
     "name": "stderr",
     "output_type": "stream",
     "text": [
      "F:\\Anaconda\\envs\\learn-env\\lib\\site-packages\\pandas\\core\\indexing.py:670: SettingWithCopyWarning: \n",
      "A value is trying to be set on a copy of a slice from a DataFrame\n",
      "\n",
      "See the caveats in the documentation: https://pandas.pydata.org/pandas-docs/stable/user_guide/indexing.html#returning-a-view-versus-a-copy\n",
      "  iloc._setitem_with_indexer(indexer, value)\n"
     ]
    },
    {
     "data": {
      "text/plain": [
       "0                       Comedy Sports Drama School Shounen\n",
       "1                       Drama Music Romance School Shounen\n",
       "2                   Sci-Fi Adventure Mystery Drama Fantasy\n",
       "3        Action Military Adventure Comedy Drama Magic F...\n",
       "4                      Action Mystery Supernatural Vampire\n",
       "                               ...                        \n",
       "16209       Action Comedy Super Power Martial Arts Shounen\n",
       "16210                    Slice_of_Life Comedy Supernatural\n",
       "16211                         Slice_of_Life Comedy Shounen\n",
       "16212                                               Action\n",
       "16213            Comedy Drama Romance School Slice_of_Life\n",
       "Name: genre, Length: 16214, dtype: object"
      ]
     },
     "execution_count": 5,
     "metadata": {},
     "output_type": "execute_result"
    }
   ],
   "source": [
    "#clean genre so it can be used in the rec system\n",
    "for i, row_genre in enumerate(df_anime['genre']):\n",
    "    row_genre = row_genre.replace('[','')\n",
    "    row_genre = row_genre.replace(']','')\n",
    "    row_genre = row_genre.replace(\"'\",\"\")\n",
    "    row_genre = row_genre.replace(\",\",\"\")\n",
    "    df_anime['genre'].iloc[i] = row_genre\n",
    "df_anime['genre']"
   ]
  },
  {
   "cell_type": "markdown",
   "metadata": {},
   "source": [
    "## Begin recc model with preprocessed synopsis"
   ]
  },
  {
   "cell_type": "code",
   "execution_count": 12,
   "metadata": {},
   "outputs": [],
   "source": [
    "syp = df_anime['synopsis_processed']\n",
    "genre = df_anime['genre']\n",
    "title = df_anime['title']"
   ]
  },
  {
   "cell_type": "code",
   "execution_count": 13,
   "metadata": {},
   "outputs": [],
   "source": [
    "df_touse = df_anime[['synopsis_processed', 'genre','title']]"
   ]
  },
  {
   "cell_type": "code",
   "execution_count": 14,
   "metadata": {},
   "outputs": [
    {
     "name": "stderr",
     "output_type": "stream",
     "text": [
      "<ipython-input-14-d6bbce4ef9e3>:11: SettingWithCopyWarning: \n",
      "A value is trying to be set on a copy of a slice from a DataFrame.\n",
      "Try using .loc[row_indexer,col_indexer] = value instead\n",
      "\n",
      "See the caveats in the documentation: https://pandas.pydata.org/pandas-docs/stable/user_guide/indexing.html#returning-a-view-versus-a-copy\n",
      "  df_touse['keywords'] = keywords\n"
     ]
    },
    {
     "data": {
      "text/plain": [
       "' volleyball team must learn settle difference train harder ever hope overcome formidable opponent old new — including archrival aoba jousai world karasuno agrees take part large training camp alongside many notable volleyball team tokyo even national level player karasuno high school volleyball team attempt refocus effort facing may last chance victory senior player graduate also come new attack would strengthen hinata kageyama attempt devise powerful weapon one could possibly break sturdiest block aiming conquer spring tournament instead playing toughest team japan hope sharpen skill standing rival nekoma high class setter tooru oikawa member karasuno receive invitation long following participation inter high moreover'"
      ]
     },
     "execution_count": 14,
     "metadata": {},
     "output_type": "execute_result"
    }
   ],
   "source": [
    "#extracting keywords for recommender\n",
    "rake = Rake()\n",
    "keywords = []\n",
    "for plot in syp:\n",
    "    rake.extract_keywords_from_text(str(plot))\n",
    "    keywords_i = rake.get_ranked_phrases()\n",
    "    keywords_i_string = \"\"\n",
    "    for keyword in keywords_i:\n",
    "        keywords_i_string = keywords_i_string + \" \" + keyword\n",
    "    keywords.append(keywords_i_string)\n",
    "df_touse['keywords'] = keywords"
   ]
  },
  {
   "cell_type": "code",
   "execution_count": 15,
   "metadata": {},
   "outputs": [
    {
     "name": "stderr",
     "output_type": "stream",
     "text": [
      "<ipython-input-15-3a53a76f0bbb>:1: SettingWithCopyWarning: \n",
      "A value is trying to be set on a copy of a slice from a DataFrame.\n",
      "Try using .loc[row_indexer,col_indexer] = value instead\n",
      "\n",
      "See the caveats in the documentation: https://pandas.pydata.org/pandas-docs/stable/user_guide/indexing.html#returning-a-view-versus-a-copy\n",
      "  df_touse['bag_words'] = df_touse['genre'] + df_touse['keywords']\n"
     ]
    }
   ],
   "source": [
    "df_touse['bag_words'] = df_touse['genre'] + df_touse['keywords']"
   ]
  },
  {
   "cell_type": "code",
   "execution_count": 16,
   "metadata": {},
   "outputs": [],
   "source": [
    "vectorizer = CountVectorizer()\n",
    "vectorized_bag_of_words = vectorizer.fit_transform(df_touse['bag_words'])\n",
    "vectorized_bag_of_words = vectorized_bag_of_words.toarray()"
   ]
  },
  {
   "cell_type": "code",
   "execution_count": 17,
   "metadata": {},
   "outputs": [],
   "source": [
    "def recommend(show_title, n_recom):\n",
    "    similarity_matrix = cosine_similarity(vectorized_bag_of_words, vectorized_bag_of_words[list(np.where(df_touse[\"title\"] == show_title)[0]), :])\n",
    "    similarity_dataframe = pd.DataFrame(similarity_matrix)\n",
    "    similarity_dataframe.index = title \n",
    "    similarity_dataframe =  similarity_dataframe.iloc[:,0]\n",
    "    similarity_dataframe = similarity_dataframe.sort_values(ascending = False)\n",
    "    similarity_dataframe = similarity_dataframe.drop_duplicates()\n",
    "    return list(similarity_dataframe.index)[1:n_recom + 1]"
   ]
  },
  {
   "cell_type": "code",
   "execution_count": 18,
   "metadata": {},
   "outputs": [
    {
     "data": {
      "text/plain": [
       "['Haikyuu!!',\n",
       " 'Haikyuu!!: Karasuno Koukou vs. Shiratorizawa Gakuen Koukou',\n",
       " 'Ashita e Attack!',\n",
       " 'Attacker You!',\n",
       " 'Shoujo Fight: Norainu-tachi no Odekake',\n",
       " 'Midoriyama Koukou Koushien-hen',\n",
       " 'Dear Boys',\n",
       " 'Diamond no Ace: Second Season',\n",
       " 'Aoki Densetsu Shoot!',\n",
       " 'Kuroko no Basket']"
      ]
     },
     "execution_count": 18,
     "metadata": {},
     "output_type": "execute_result"
    }
   ],
   "source": [
    "recommend(\"Haikyuu!! Second Season\",10)"
   ]
  },
  {
   "cell_type": "markdown",
   "metadata": {},
   "source": [
    "## Conclusion:\n",
    "- At bare minimum, the first model will be the one used. Reduce dimensionality as much as possible\n",
    "- Try doing PCA too later"
   ]
  },
  {
   "cell_type": "code",
   "execution_count": null,
   "metadata": {},
   "outputs": [],
   "source": []
  }
 ],
 "metadata": {
  "kernelspec": {
   "display_name": "Python 3",
   "language": "python",
   "name": "python3"
  },
  "language_info": {
   "codemirror_mode": {
    "name": "ipython",
    "version": 3
   },
   "file_extension": ".py",
   "mimetype": "text/x-python",
   "name": "python",
   "nbconvert_exporter": "python",
   "pygments_lexer": "ipython3",
   "version": "3.8.5"
  }
 },
 "nbformat": 4,
 "nbformat_minor": 4
}
