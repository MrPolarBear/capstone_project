{
 "cells": [
  {
   "cell_type": "code",
   "execution_count": 1,
   "metadata": {},
   "outputs": [],
   "source": [
    "import numpy as np \n",
    "import os \n",
    "import pandas as pd \n",
    "import re\n",
    "import string\n",
    "import seaborn as sns\n",
    "import sklearn\n",
    "from surprise import Reader, Dataset, SVD, KNNBasic\n",
    "\n",
    "from surprise.accuracy import rmse\n",
    "\n",
    "\n",
    "from surprise.model_selection import cross_validate\n",
    "from surprise.model_selection import train_test_split\n",
    "import surprise\n",
    "from surprise import KNNWithMeans\n",
    "from surprise import Dataset\n",
    "from surprise import accuracy\n",
    "from surprise.model_selection import GridSearchCV"
   ]
  },
  {
   "cell_type": "code",
   "execution_count": 2,
   "metadata": {},
   "outputs": [],
   "source": [
    "df_anime = pd.read_csv(\"../data/df_anime_export.csv\")\n",
    "df_profile = pd.read_csv(\"../data/df_profile_export.csv\")\n",
    "df_review = pd.read_csv(\"../data/df_review_export.csv\")\n",
    "df_an_pro_rev = pd.read_csv(\"../data/merged_rev_df_export.csv\")\n",
    "df_an_pro = pd.read_csv(\"../data/merged_df_export.csv\")\n",
    "df_main = pd.read_csv(\"../data/df_prof_rev_anime_clean.csv\")"
   ]
  },
  {
   "cell_type": "code",
   "execution_count": 3,
   "metadata": {
    "scrolled": true
   },
   "outputs": [
    {
     "data": {
      "text/html": [
       "<div>\n",
       "<style scoped>\n",
       "    .dataframe tbody tr th:only-of-type {\n",
       "        vertical-align: middle;\n",
       "    }\n",
       "\n",
       "    .dataframe tbody tr th {\n",
       "        vertical-align: top;\n",
       "    }\n",
       "\n",
       "    .dataframe thead th {\n",
       "        text-align: right;\n",
       "    }\n",
       "</style>\n",
       "<table border=\"1\" class=\"dataframe\">\n",
       "  <thead>\n",
       "    <tr style=\"text-align: right;\">\n",
       "      <th></th>\n",
       "      <th>Unnamed: 0.1</th>\n",
       "      <th>uid</th>\n",
       "      <th>title</th>\n",
       "      <th>synopsis</th>\n",
       "      <th>genre</th>\n",
       "      <th>aired</th>\n",
       "      <th>episodes</th>\n",
       "      <th>members</th>\n",
       "      <th>popularity</th>\n",
       "      <th>ranked</th>\n",
       "      <th>score</th>\n",
       "      <th>synopsis_processed</th>\n",
       "      <th>profile</th>\n",
       "      <th>review_score</th>\n",
       "      <th>review_score_indepth</th>\n",
       "      <th>text_preprocessed</th>\n",
       "      <th>Unnamed: 0</th>\n",
       "      <th>gender</th>\n",
       "      <th>birthday</th>\n",
       "      <th>favorites_anime</th>\n",
       "    </tr>\n",
       "  </thead>\n",
       "  <tbody>\n",
       "    <tr>\n",
       "      <th>0</th>\n",
       "      <td>0</td>\n",
       "      <td>28891</td>\n",
       "      <td>Haikyuu!! Second Season</td>\n",
       "      <td>Following their participation at the Inter-Hig...</td>\n",
       "      <td>['Comedy', 'Sports', 'Drama', 'School', 'Shoun...</td>\n",
       "      <td>Oct 4, 2015 to Mar 27, 2016</td>\n",
       "      <td>25.0</td>\n",
       "      <td>489888</td>\n",
       "      <td>141</td>\n",
       "      <td>25.0</td>\n",
       "      <td>8.82</td>\n",
       "      <td>following participation inter-high , karasuno ...</td>\n",
       "      <td>skrn</td>\n",
       "      <td>7</td>\n",
       "      <td>{'Overall': '7', 'Story': '7', 'Animation': '9...</td>\n",
       "      <td>art : great , especially action critical momen...</td>\n",
       "      <td>2</td>\n",
       "      <td>NaN</td>\n",
       "      <td>NaN</td>\n",
       "      <td>['918', '2904', '11741', '17074', '23273', '32...</td>\n",
       "    </tr>\n",
       "  </tbody>\n",
       "</table>\n",
       "</div>"
      ],
      "text/plain": [
       "   Unnamed: 0.1    uid                    title  \\\n",
       "0             0  28891  Haikyuu!! Second Season   \n",
       "\n",
       "                                            synopsis  \\\n",
       "0  Following their participation at the Inter-Hig...   \n",
       "\n",
       "                                               genre  \\\n",
       "0  ['Comedy', 'Sports', 'Drama', 'School', 'Shoun...   \n",
       "\n",
       "                         aired  episodes  members  popularity  ranked  score  \\\n",
       "0  Oct 4, 2015 to Mar 27, 2016      25.0   489888         141    25.0   8.82   \n",
       "\n",
       "                                  synopsis_processed profile  review_score  \\\n",
       "0  following participation inter-high , karasuno ...    skrn             7   \n",
       "\n",
       "                                review_score_indepth  \\\n",
       "0  {'Overall': '7', 'Story': '7', 'Animation': '9...   \n",
       "\n",
       "                                   text_preprocessed  Unnamed: 0 gender  \\\n",
       "0  art : great , especially action critical momen...           2    NaN   \n",
       "\n",
       "  birthday                                    favorites_anime  \n",
       "0      NaN  ['918', '2904', '11741', '17074', '23273', '32...  "
      ]
     },
     "execution_count": 3,
     "metadata": {},
     "output_type": "execute_result"
    }
   ],
   "source": [
    "df_main.head(1)"
   ]
  },
  {
   "cell_type": "markdown",
   "metadata": {},
   "source": [
    "## Collab Filter a bit cleaner"
   ]
  },
  {
   "cell_type": "code",
   "execution_count": 4,
   "metadata": {},
   "outputs": [],
   "source": [
    "df_touse = df_main[[\"profile\", \"uid\", \"review_score\"]]"
   ]
  },
  {
   "cell_type": "code",
   "execution_count": 5,
   "metadata": {},
   "outputs": [
    {
     "data": {
      "text/html": [
       "<div>\n",
       "<style scoped>\n",
       "    .dataframe tbody tr th:only-of-type {\n",
       "        vertical-align: middle;\n",
       "    }\n",
       "\n",
       "    .dataframe tbody tr th {\n",
       "        vertical-align: top;\n",
       "    }\n",
       "\n",
       "    .dataframe thead th {\n",
       "        text-align: right;\n",
       "    }\n",
       "</style>\n",
       "<table border=\"1\" class=\"dataframe\">\n",
       "  <thead>\n",
       "    <tr style=\"text-align: right;\">\n",
       "      <th></th>\n",
       "      <th>Unnamed: 0</th>\n",
       "      <th>uid</th>\n",
       "      <th>title</th>\n",
       "      <th>synopsis</th>\n",
       "      <th>genre</th>\n",
       "      <th>aired</th>\n",
       "      <th>episodes</th>\n",
       "      <th>members</th>\n",
       "      <th>popularity</th>\n",
       "      <th>ranked</th>\n",
       "      <th>score</th>\n",
       "      <th>synopsis_processed</th>\n",
       "    </tr>\n",
       "  </thead>\n",
       "  <tbody>\n",
       "    <tr>\n",
       "      <th>0</th>\n",
       "      <td>0</td>\n",
       "      <td>28891</td>\n",
       "      <td>Haikyuu!! Second Season</td>\n",
       "      <td>Following their participation at the Inter-Hig...</td>\n",
       "      <td>['Comedy', 'Sports', 'Drama', 'School', 'Shoun...</td>\n",
       "      <td>Oct 4, 2015 to Mar 27, 2016</td>\n",
       "      <td>25.0</td>\n",
       "      <td>489888</td>\n",
       "      <td>141</td>\n",
       "      <td>25.0</td>\n",
       "      <td>8.82</td>\n",
       "      <td>following participation inter-high , karasuno ...</td>\n",
       "    </tr>\n",
       "  </tbody>\n",
       "</table>\n",
       "</div>"
      ],
      "text/plain": [
       "   Unnamed: 0    uid                    title  \\\n",
       "0           0  28891  Haikyuu!! Second Season   \n",
       "\n",
       "                                            synopsis  \\\n",
       "0  Following their participation at the Inter-Hig...   \n",
       "\n",
       "                                               genre  \\\n",
       "0  ['Comedy', 'Sports', 'Drama', 'School', 'Shoun...   \n",
       "\n",
       "                         aired  episodes  members  popularity  ranked  score  \\\n",
       "0  Oct 4, 2015 to Mar 27, 2016      25.0   489888         141    25.0   8.82   \n",
       "\n",
       "                                  synopsis_processed  \n",
       "0  following participation inter-high , karasuno ...  "
      ]
     },
     "execution_count": 5,
     "metadata": {},
     "output_type": "execute_result"
    }
   ],
   "source": [
    "df_anime.head(1)"
   ]
  },
  {
   "cell_type": "code",
   "execution_count": 6,
   "metadata": {},
   "outputs": [],
   "source": [
    "df_anime_touse = df_anime[[\"uid\", \"title\"]]"
   ]
  },
  {
   "cell_type": "code",
   "execution_count": 7,
   "metadata": {},
   "outputs": [],
   "source": [
    "df = Dataset.load_from_df(df_touse, Reader(rating_scale=(1,10)))\n",
    "trainset = df.build_full_trainset()"
   ]
  },
  {
   "cell_type": "code",
   "execution_count": 8,
   "metadata": {},
   "outputs": [
    {
     "name": "stdout",
     "output_type": "stream",
     "text": [
      "Evaluating RMSE, MAE of algorithm SVD on 5 split(s).\n",
      "\n",
      "                  Fold 1  Fold 2  Fold 3  Fold 4  Fold 5  Mean    Std     \n",
      "RMSE (testset)    1.9846  1.9689  1.9738  1.9845  1.9787  1.9781  0.0061  \n",
      "MAE (testset)     1.5254  1.5209  1.5223  1.5326  1.5244  1.5251  0.0041  \n",
      "Fit time          1.30    1.35    1.39    1.41    1.43    1.38    0.05    \n",
      "Test time         0.17    0.33    0.32    0.35    0.16    0.27    0.08    \n"
     ]
    },
    {
     "data": {
      "text/plain": [
       "{'test_rmse': array([1.98463759, 1.96894694, 1.97384693, 1.98450158, 1.97871039]),\n",
       " 'test_mae': array([1.52541688, 1.52086623, 1.52228663, 1.5325932 , 1.52440154]),\n",
       " 'fit_time': (1.3022940158843994,\n",
       "  1.3493025302886963,\n",
       "  1.392310619354248,\n",
       "  1.414315938949585,\n",
       "  1.4273185729980469),\n",
       " 'test_time': (0.16603636741638184,\n",
       "  0.33007240295410156,\n",
       "  0.32407236099243164,\n",
       "  0.34807896614074707,\n",
       "  0.16403770446777344)}"
      ]
     },
     "execution_count": 8,
     "metadata": {},
     "output_type": "execute_result"
    }
   ],
   "source": [
    "model = SVD()\n",
    "cross_validate(model, df, measures=[\"RMSE\", \"MAE\"], cv=5, verbose=True)"
   ]
  },
  {
   "cell_type": "code",
   "execution_count": 9,
   "metadata": {},
   "outputs": [
    {
     "data": {
      "text/plain": [
       "Prediction(uid='skrn', iid=30, r_ui=None, est=6.460253938058285, details={'was_impossible': False})"
      ]
     },
     "execution_count": 9,
     "metadata": {},
     "output_type": "execute_result"
    }
   ],
   "source": [
    "#single prediction\n",
    "model.predict('skrn', 30)"
   ]
  },
  {
   "cell_type": "code",
   "execution_count": 10,
   "metadata": {},
   "outputs": [
    {
     "data": {
      "text/html": [
       "<div>\n",
       "<style scoped>\n",
       "    .dataframe tbody tr th:only-of-type {\n",
       "        vertical-align: middle;\n",
       "    }\n",
       "\n",
       "    .dataframe tbody tr th {\n",
       "        vertical-align: top;\n",
       "    }\n",
       "\n",
       "    .dataframe thead th {\n",
       "        text-align: right;\n",
       "    }\n",
       "</style>\n",
       "<table border=\"1\" class=\"dataframe\">\n",
       "  <thead>\n",
       "    <tr style=\"text-align: right;\">\n",
       "      <th></th>\n",
       "      <th>uid</th>\n",
       "      <th>pred_score</th>\n",
       "      <th>title</th>\n",
       "    </tr>\n",
       "  </thead>\n",
       "  <tbody>\n",
       "    <tr>\n",
       "      <th>0</th>\n",
       "      <td>3297</td>\n",
       "      <td>8.699369</td>\n",
       "      <td>Aria The Origination</td>\n",
       "    </tr>\n",
       "    <tr>\n",
       "      <th>1</th>\n",
       "      <td>28977</td>\n",
       "      <td>8.686230</td>\n",
       "      <td>Gintama°</td>\n",
       "    </tr>\n",
       "    <tr>\n",
       "      <th>2</th>\n",
       "      <td>2251</td>\n",
       "      <td>8.681022</td>\n",
       "      <td>Baccano!</td>\n",
       "    </tr>\n",
       "    <tr>\n",
       "      <th>3</th>\n",
       "      <td>33</td>\n",
       "      <td>8.581825</td>\n",
       "      <td>Kenpuu Denki Berserk</td>\n",
       "    </tr>\n",
       "    <tr>\n",
       "      <th>4</th>\n",
       "      <td>10162</td>\n",
       "      <td>8.570370</td>\n",
       "      <td>Usagi Drop</td>\n",
       "    </tr>\n",
       "    <tr>\n",
       "      <th>5</th>\n",
       "      <td>199</td>\n",
       "      <td>8.566371</td>\n",
       "      <td>Sen to Chihiro no Kamikakushi</td>\n",
       "    </tr>\n",
       "    <tr>\n",
       "      <th>6</th>\n",
       "      <td>30654</td>\n",
       "      <td>8.550124</td>\n",
       "      <td>Ansatsu Kyoushitsu 2nd Season</td>\n",
       "    </tr>\n",
       "    <tr>\n",
       "      <th>7</th>\n",
       "      <td>35180</td>\n",
       "      <td>8.545835</td>\n",
       "      <td>3-gatsu no Lion 2nd Season</td>\n",
       "    </tr>\n",
       "    <tr>\n",
       "      <th>8</th>\n",
       "      <td>35839</td>\n",
       "      <td>8.531832</td>\n",
       "      <td>Sora yori mo Tooi Basho</td>\n",
       "    </tr>\n",
       "    <tr>\n",
       "      <th>9</th>\n",
       "      <td>5114</td>\n",
       "      <td>8.529381</td>\n",
       "      <td>Fullmetal Alchemist: Brotherhood</td>\n",
       "    </tr>\n",
       "  </tbody>\n",
       "</table>\n",
       "</div>"
      ],
      "text/plain": [
       "     uid  pred_score                             title\n",
       "0   3297    8.699369              Aria The Origination\n",
       "1  28977    8.686230                          Gintama°\n",
       "2   2251    8.681022                          Baccano!\n",
       "3     33    8.581825              Kenpuu Denki Berserk\n",
       "4  10162    8.570370                        Usagi Drop\n",
       "5    199    8.566371     Sen to Chihiro no Kamikakushi\n",
       "6  30654    8.550124     Ansatsu Kyoushitsu 2nd Season\n",
       "7  35180    8.545835        3-gatsu no Lion 2nd Season\n",
       "8  35839    8.531832           Sora yori mo Tooi Basho\n",
       "9   5114    8.529381  Fullmetal Alchemist: Brotherhood"
      ]
     },
     "execution_count": 10,
     "metadata": {},
     "output_type": "execute_result"
    }
   ],
   "source": [
    "#overall highest predicted not seen shows based on whats seen\n",
    "user_id = 'skrn'\n",
    "all_anime = df_touse['uid'].unique()\n",
    "watched = df_touse[df_touse['profile']==user_id].uid\n",
    "not_watched = [anime for anime in all_anime if anime not in watched]\n",
    "\n",
    "# predict\n",
    "score = [model.predict(user_id, anime_id) for anime_id in not_watched]\n",
    "anime_id = []\n",
    "pred_score = []\n",
    "for i in range(0, len(score)):\n",
    "    anime_id.append(score[i].iid)\n",
    "    pred_score.append(score[i].est)\n",
    "df_pred = pd.DataFrame({'uid':anime_id, 'pred_score':pred_score})\n",
    "\n",
    "df_pred_real = df_pred.sort_values('pred_score', ascending=False).head(10)\n",
    "\n",
    "df_pred_real.merge(df_anime_touse, how='left', on='uid')"
   ]
  },
  {
   "cell_type": "code",
   "execution_count": null,
   "metadata": {},
   "outputs": [],
   "source": []
  },
  {
   "cell_type": "code",
   "execution_count": 11,
   "metadata": {},
   "outputs": [
    {
     "data": {
      "text/html": [
       "<div>\n",
       "<style scoped>\n",
       "    .dataframe tbody tr th:only-of-type {\n",
       "        vertical-align: middle;\n",
       "    }\n",
       "\n",
       "    .dataframe tbody tr th {\n",
       "        vertical-align: top;\n",
       "    }\n",
       "\n",
       "    .dataframe thead th {\n",
       "        text-align: right;\n",
       "    }\n",
       "</style>\n",
       "<table border=\"1\" class=\"dataframe\">\n",
       "  <thead>\n",
       "    <tr style=\"text-align: right;\">\n",
       "      <th></th>\n",
       "      <th>profile</th>\n",
       "      <th>uid</th>\n",
       "      <th>review_score</th>\n",
       "    </tr>\n",
       "  </thead>\n",
       "  <tbody>\n",
       "    <tr>\n",
       "      <th>0</th>\n",
       "      <td>skrn</td>\n",
       "      <td>28891</td>\n",
       "      <td>7</td>\n",
       "    </tr>\n",
       "    <tr>\n",
       "      <th>1</th>\n",
       "      <td>skrn</td>\n",
       "      <td>32935</td>\n",
       "      <td>8</td>\n",
       "    </tr>\n",
       "    <tr>\n",
       "      <th>2</th>\n",
       "      <td>skrn</td>\n",
       "      <td>30276</td>\n",
       "      <td>7</td>\n",
       "    </tr>\n",
       "    <tr>\n",
       "      <th>3</th>\n",
       "      <td>skrn</td>\n",
       "      <td>4107</td>\n",
       "      <td>7</td>\n",
       "    </tr>\n",
       "    <tr>\n",
       "      <th>4</th>\n",
       "      <td>skrn</td>\n",
       "      <td>4081</td>\n",
       "      <td>4</td>\n",
       "    </tr>\n",
       "    <tr>\n",
       "      <th>...</th>\n",
       "      <td>...</td>\n",
       "      <td>...</td>\n",
       "      <td>...</td>\n",
       "    </tr>\n",
       "    <tr>\n",
       "      <th>130514</th>\n",
       "      <td>sensei69</td>\n",
       "      <td>33082</td>\n",
       "      <td>5</td>\n",
       "    </tr>\n",
       "    <tr>\n",
       "      <th>130515</th>\n",
       "      <td>ssjtk</td>\n",
       "      <td>33082</td>\n",
       "      <td>8</td>\n",
       "    </tr>\n",
       "    <tr>\n",
       "      <th>130516</th>\n",
       "      <td>Ground_zero</td>\n",
       "      <td>33082</td>\n",
       "      <td>9</td>\n",
       "    </tr>\n",
       "    <tr>\n",
       "      <th>130517</th>\n",
       "      <td>ClawViper</td>\n",
       "      <td>33082</td>\n",
       "      <td>7</td>\n",
       "    </tr>\n",
       "    <tr>\n",
       "      <th>130518</th>\n",
       "      <td>LCSeixas</td>\n",
       "      <td>16934</td>\n",
       "      <td>6</td>\n",
       "    </tr>\n",
       "  </tbody>\n",
       "</table>\n",
       "<p>130519 rows × 3 columns</p>\n",
       "</div>"
      ],
      "text/plain": [
       "            profile    uid  review_score\n",
       "0              skrn  28891             7\n",
       "1              skrn  32935             8\n",
       "2              skrn  30276             7\n",
       "3              skrn   4107             7\n",
       "4              skrn   4081             4\n",
       "...             ...    ...           ...\n",
       "130514     sensei69  33082             5\n",
       "130515        ssjtk  33082             8\n",
       "130516  Ground_zero  33082             9\n",
       "130517    ClawViper  33082             7\n",
       "130518     LCSeixas  16934             6\n",
       "\n",
       "[130519 rows x 3 columns]"
      ]
     },
     "execution_count": 11,
     "metadata": {},
     "output_type": "execute_result"
    }
   ],
   "source": [
    "df_touse"
   ]
  },
  {
   "cell_type": "code",
   "execution_count": 12,
   "metadata": {},
   "outputs": [
    {
     "data": {
      "text/plain": [
       "28891"
      ]
     },
     "execution_count": 12,
     "metadata": {},
     "output_type": "execute_result"
    }
   ],
   "source": [
    "df_touse['uid'][0]"
   ]
  },
  {
   "cell_type": "markdown",
   "metadata": {},
   "source": [
    "## Testing Accuracy"
   ]
  },
  {
   "cell_type": "code",
   "execution_count": 13,
   "metadata": {},
   "outputs": [
    {
     "name": "stdout",
     "output_type": "stream",
     "text": [
      "Average Accuracy: 0.888059829059829\n"
     ]
    }
   ],
   "source": [
    "reader = Reader(rating_scale=(1, 10))\n",
    "data = Dataset.load_from_df(df_touse, reader)\n",
    "\n",
    "# Build the full training set\n",
    "trainset = data.build_full_trainset()\n",
    "\n",
    "# Train the SVD model\n",
    "model = SVD()\n",
    "model.fit(trainset)\n",
    "\n",
    "# Split the dataset into training and testing sets\n",
    "trainset, testset = train_test_split(data, test_size=0.2)\n",
    "\n",
    "# Chunk the testset into groups of 1000\n",
    "chunk_size = 1000\n",
    "num_chunks = len(testset) // chunk_size\n",
    "if len(testset) % chunk_size != 0:\n",
    "    num_chunks += 1\n",
    "\n",
    "# Calculate accuracy for each chunk\n",
    "accuracies = []\n",
    "tolerance = 1  # Tolerance for correctness\n",
    "\n",
    "for i in range(num_chunks):\n",
    "    start_idx = i * chunk_size\n",
    "    end_idx = start_idx + chunk_size\n",
    "    chunk = testset[start_idx:end_idx]\n",
    "    predictions = model.test(chunk)\n",
    "\n",
    "    # Calculate accuracy for the chunk\n",
    "    num_correct = 0\n",
    "    for prediction in predictions:\n",
    "        uid = prediction.uid\n",
    "        iid = prediction.iid\n",
    "        actual_rating = prediction.r_ui\n",
    "        predicted_rating = round(prediction.est)\n",
    "        if abs(actual_rating - predicted_rating) <= tolerance:\n",
    "            num_correct += 1\n",
    "\n",
    "    # Calculate accuracy for the chunk\n",
    "    accuracy = num_correct / len(chunk)\n",
    "    accuracies.append(accuracy)\n",
    "\n",
    "# Calculate the average accuracy across all chunks\n",
    "average_accuracy = np.mean(accuracies)\n",
    "\n",
    "print('Average Accuracy:', average_accuracy)"
   ]
  },
  {
   "cell_type": "code",
   "execution_count": null,
   "metadata": {},
   "outputs": [],
   "source": []
  }
 ],
 "metadata": {
  "kernelspec": {
   "display_name": "Python 3",
   "language": "python",
   "name": "python3"
  },
  "language_info": {
   "codemirror_mode": {
    "name": "ipython",
    "version": 3
   },
   "file_extension": ".py",
   "mimetype": "text/x-python",
   "name": "python",
   "nbconvert_exporter": "python",
   "pygments_lexer": "ipython3",
   "version": "3.10.9"
  }
 },
 "nbformat": 4,
 "nbformat_minor": 4
}
