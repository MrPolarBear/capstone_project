{
 "cells": [
  {
   "cell_type": "code",
   "execution_count": 3,
   "metadata": {},
   "outputs": [],
   "source": [
    "import numpy as np \n",
    "import os \n",
    "import pandas as pd \n",
    "import re\n",
    "import string\n",
    "import seaborn as sns\n",
    "import sklearn\n",
    "from surprise import Reader, Dataset, SVD\n",
    "from surprise.model_selection import cross_validate\n",
    "import surprise\n",
    "from surprise import KNNWithMeans\n",
    "from surprise import Dataset\n",
    "from surprise.model_selection import GridSearchCV"
   ]
  },
  {
   "cell_type": "code",
   "execution_count": 4,
   "metadata": {},
   "outputs": [],
   "source": [
    "df_anime = pd.read_csv(\"../data/df_anime_export.csv\")\n",
    "df_profile = pd.read_csv(\"../data/df_profile_export.csv\")\n",
    "df_review = pd.read_csv(\"../data/df_review_export.csv\")\n",
    "df_an_pro_rev = pd.read_csv(\"../data/merged_rev_df_export.csv\")\n",
    "df_an_pro = pd.read_csv(\"../data/merged_df_export.csv\")\n",
    "df_main = pd.read_csv(\"../data/df_prof_rev_anime_clean.csv\")"
   ]
  },
  {
   "cell_type": "code",
   "execution_count": 5,
   "metadata": {
    "scrolled": true
   },
   "outputs": [
    {
     "data": {
      "text/html": [
       "<div>\n",
       "<style scoped>\n",
       "    .dataframe tbody tr th:only-of-type {\n",
       "        vertical-align: middle;\n",
       "    }\n",
       "\n",
       "    .dataframe tbody tr th {\n",
       "        vertical-align: top;\n",
       "    }\n",
       "\n",
       "    .dataframe thead th {\n",
       "        text-align: right;\n",
       "    }\n",
       "</style>\n",
       "<table border=\"1\" class=\"dataframe\">\n",
       "  <thead>\n",
       "    <tr style=\"text-align: right;\">\n",
       "      <th></th>\n",
       "      <th>Unnamed: 0.1</th>\n",
       "      <th>uid</th>\n",
       "      <th>title</th>\n",
       "      <th>synopsis</th>\n",
       "      <th>genre</th>\n",
       "      <th>aired</th>\n",
       "      <th>episodes</th>\n",
       "      <th>members</th>\n",
       "      <th>popularity</th>\n",
       "      <th>ranked</th>\n",
       "      <th>score</th>\n",
       "      <th>synopsis_processed</th>\n",
       "      <th>profile</th>\n",
       "      <th>review_score</th>\n",
       "      <th>review_score_indepth</th>\n",
       "      <th>text_preprocessed</th>\n",
       "      <th>Unnamed: 0</th>\n",
       "      <th>gender</th>\n",
       "      <th>birthday</th>\n",
       "      <th>favorites_anime</th>\n",
       "    </tr>\n",
       "  </thead>\n",
       "  <tbody>\n",
       "    <tr>\n",
       "      <th>0</th>\n",
       "      <td>0</td>\n",
       "      <td>28891</td>\n",
       "      <td>Haikyuu!! Second Season</td>\n",
       "      <td>Following their participation at the Inter-Hig...</td>\n",
       "      <td>['Comedy', 'Sports', 'Drama', 'School', 'Shoun...</td>\n",
       "      <td>Oct 4, 2015 to Mar 27, 2016</td>\n",
       "      <td>25.0</td>\n",
       "      <td>489888</td>\n",
       "      <td>141</td>\n",
       "      <td>25.0</td>\n",
       "      <td>8.82</td>\n",
       "      <td>following participation inter-high , karasuno ...</td>\n",
       "      <td>skrn</td>\n",
       "      <td>7</td>\n",
       "      <td>{'Overall': '7', 'Story': '7', 'Animation': '9...</td>\n",
       "      <td>art : great , especially action critical momen...</td>\n",
       "      <td>2</td>\n",
       "      <td>NaN</td>\n",
       "      <td>NaN</td>\n",
       "      <td>['918', '2904', '11741', '17074', '23273', '32...</td>\n",
       "    </tr>\n",
       "  </tbody>\n",
       "</table>\n",
       "</div>"
      ],
      "text/plain": [
       "   Unnamed: 0.1    uid                    title  \\\n",
       "0             0  28891  Haikyuu!! Second Season   \n",
       "\n",
       "                                            synopsis  \\\n",
       "0  Following their participation at the Inter-Hig...   \n",
       "\n",
       "                                               genre  \\\n",
       "0  ['Comedy', 'Sports', 'Drama', 'School', 'Shoun...   \n",
       "\n",
       "                         aired  episodes  members  popularity  ranked  score  \\\n",
       "0  Oct 4, 2015 to Mar 27, 2016      25.0   489888         141    25.0   8.82   \n",
       "\n",
       "                                  synopsis_processed profile  review_score  \\\n",
       "0  following participation inter-high , karasuno ...    skrn             7   \n",
       "\n",
       "                                review_score_indepth  \\\n",
       "0  {'Overall': '7', 'Story': '7', 'Animation': '9...   \n",
       "\n",
       "                                   text_preprocessed  Unnamed: 0 gender  \\\n",
       "0  art : great , especially action critical momen...           2    NaN   \n",
       "\n",
       "  birthday                                    favorites_anime  \n",
       "0      NaN  ['918', '2904', '11741', '17074', '23273', '32...  "
      ]
     },
     "execution_count": 5,
     "metadata": {},
     "output_type": "execute_result"
    }
   ],
   "source": [
    "df_main.head(1)"
   ]
  },
  {
   "cell_type": "markdown",
   "metadata": {},
   "source": [
    "## Collab Filter a bit cleaner"
   ]
  },
  {
   "cell_type": "code",
   "execution_count": 6,
   "metadata": {},
   "outputs": [],
   "source": [
    "df_touse = df_main[[\"profile\", \"uid\", \"review_score\"]]"
   ]
  },
  {
   "cell_type": "code",
   "execution_count": 7,
   "metadata": {},
   "outputs": [
    {
     "data": {
      "text/html": [
       "<div>\n",
       "<style scoped>\n",
       "    .dataframe tbody tr th:only-of-type {\n",
       "        vertical-align: middle;\n",
       "    }\n",
       "\n",
       "    .dataframe tbody tr th {\n",
       "        vertical-align: top;\n",
       "    }\n",
       "\n",
       "    .dataframe thead th {\n",
       "        text-align: right;\n",
       "    }\n",
       "</style>\n",
       "<table border=\"1\" class=\"dataframe\">\n",
       "  <thead>\n",
       "    <tr style=\"text-align: right;\">\n",
       "      <th></th>\n",
       "      <th>Unnamed: 0</th>\n",
       "      <th>uid</th>\n",
       "      <th>title</th>\n",
       "      <th>synopsis</th>\n",
       "      <th>genre</th>\n",
       "      <th>aired</th>\n",
       "      <th>episodes</th>\n",
       "      <th>members</th>\n",
       "      <th>popularity</th>\n",
       "      <th>ranked</th>\n",
       "      <th>score</th>\n",
       "      <th>synopsis_processed</th>\n",
       "    </tr>\n",
       "  </thead>\n",
       "  <tbody>\n",
       "    <tr>\n",
       "      <th>0</th>\n",
       "      <td>0</td>\n",
       "      <td>28891</td>\n",
       "      <td>Haikyuu!! Second Season</td>\n",
       "      <td>Following their participation at the Inter-Hig...</td>\n",
       "      <td>['Comedy', 'Sports', 'Drama', 'School', 'Shoun...</td>\n",
       "      <td>Oct 4, 2015 to Mar 27, 2016</td>\n",
       "      <td>25.0</td>\n",
       "      <td>489888</td>\n",
       "      <td>141</td>\n",
       "      <td>25.0</td>\n",
       "      <td>8.82</td>\n",
       "      <td>following participation inter-high , karasuno ...</td>\n",
       "    </tr>\n",
       "  </tbody>\n",
       "</table>\n",
       "</div>"
      ],
      "text/plain": [
       "   Unnamed: 0    uid                    title  \\\n",
       "0           0  28891  Haikyuu!! Second Season   \n",
       "\n",
       "                                            synopsis  \\\n",
       "0  Following their participation at the Inter-Hig...   \n",
       "\n",
       "                                               genre  \\\n",
       "0  ['Comedy', 'Sports', 'Drama', 'School', 'Shoun...   \n",
       "\n",
       "                         aired  episodes  members  popularity  ranked  score  \\\n",
       "0  Oct 4, 2015 to Mar 27, 2016      25.0   489888         141    25.0   8.82   \n",
       "\n",
       "                                  synopsis_processed  \n",
       "0  following participation inter-high , karasuno ...  "
      ]
     },
     "execution_count": 7,
     "metadata": {},
     "output_type": "execute_result"
    }
   ],
   "source": [
    "df_anime.head(1)"
   ]
  },
  {
   "cell_type": "code",
   "execution_count": 8,
   "metadata": {},
   "outputs": [],
   "source": [
    "df_anime_touse = df_anime[[\"uid\", \"title\"]]"
   ]
  },
  {
   "cell_type": "code",
   "execution_count": 9,
   "metadata": {},
   "outputs": [],
   "source": [
    "df = Dataset.load_from_df(df_touse, Reader(rating_scale=(1,10)))\n",
    "trainset = df.build_full_trainset()"
   ]
  },
  {
   "cell_type": "code",
   "execution_count": 10,
   "metadata": {},
   "outputs": [
    {
     "name": "stdout",
     "output_type": "stream",
     "text": [
      "Evaluating RMSE, MAE of algorithm SVD on 5 split(s).\n",
      "\n",
      "                  Fold 1  Fold 2  Fold 3  Fold 4  Fold 5  Mean    Std     \n",
      "RMSE (testset)    1.9744  1.9809  1.9815  1.9761  1.9767  1.9779  0.0028  \n",
      "MAE (testset)     1.5180  1.5278  1.5262  1.5258  1.5292  1.5254  0.0039  \n",
      "Fit time          1.24    1.28    1.45    1.40    1.50    1.38    0.10    \n",
      "Test time         0.16    0.16    0.18    0.17    0.17    0.17    0.01    \n"
     ]
    },
    {
     "data": {
      "text/plain": [
       "{'test_rmse': array([1.97437273, 1.98091181, 1.98152921, 1.976051  , 1.97668805]),\n",
       " 'test_mae': array([1.51798043, 1.52777195, 1.52618831, 1.52577896, 1.52923074]),\n",
       " 'fit_time': (1.2443084716796875,\n",
       "  1.2752859592437744,\n",
       "  1.4513254165649414,\n",
       "  1.4033153057098389,\n",
       "  1.5043370723724365),\n",
       " 'test_time': (0.16103625297546387,\n",
       "  0.1580350399017334,\n",
       "  0.1780407428741455,\n",
       "  0.1670377254486084,\n",
       "  0.1670379638671875)}"
      ]
     },
     "execution_count": 10,
     "metadata": {},
     "output_type": "execute_result"
    }
   ],
   "source": [
    "model = SVD()\n",
    "cross_validate(model, df, measures=[\"RMSE\", \"MAE\"], cv=5, verbose=True)"
   ]
  },
  {
   "cell_type": "code",
   "execution_count": 11,
   "metadata": {},
   "outputs": [
    {
     "data": {
      "text/plain": [
       "Prediction(uid='skrn', iid=30, r_ui=None, est=8.01315845147726, details={'was_impossible': False})"
      ]
     },
     "execution_count": 11,
     "metadata": {},
     "output_type": "execute_result"
    }
   ],
   "source": [
    "#single prediction\n",
    "model.predict('skrn', 30)"
   ]
  },
  {
   "cell_type": "code",
   "execution_count": 12,
   "metadata": {},
   "outputs": [
    {
     "data": {
      "text/html": [
       "<div>\n",
       "<style scoped>\n",
       "    .dataframe tbody tr th:only-of-type {\n",
       "        vertical-align: middle;\n",
       "    }\n",
       "\n",
       "    .dataframe tbody tr th {\n",
       "        vertical-align: top;\n",
       "    }\n",
       "\n",
       "    .dataframe thead th {\n",
       "        text-align: right;\n",
       "    }\n",
       "</style>\n",
       "<table border=\"1\" class=\"dataframe\">\n",
       "  <thead>\n",
       "    <tr style=\"text-align: right;\">\n",
       "      <th></th>\n",
       "      <th>uid</th>\n",
       "      <th>pred_score</th>\n",
       "      <th>title</th>\n",
       "    </tr>\n",
       "  </thead>\n",
       "  <tbody>\n",
       "    <tr>\n",
       "      <th>0</th>\n",
       "      <td>263</td>\n",
       "      <td>8.989224</td>\n",
       "      <td>Hajime no Ippo</td>\n",
       "    </tr>\n",
       "    <tr>\n",
       "      <th>1</th>\n",
       "      <td>7311</td>\n",
       "      <td>8.951124</td>\n",
       "      <td>Suzumiya Haruhi no Shoushitsu</td>\n",
       "    </tr>\n",
       "    <tr>\n",
       "      <th>2</th>\n",
       "      <td>5365</td>\n",
       "      <td>8.848104</td>\n",
       "      <td>Tsumiki no Ie</td>\n",
       "    </tr>\n",
       "    <tr>\n",
       "      <th>3</th>\n",
       "      <td>37510</td>\n",
       "      <td>8.837533</td>\n",
       "      <td>Mob Psycho 100 II</td>\n",
       "    </tr>\n",
       "    <tr>\n",
       "      <th>4</th>\n",
       "      <td>13759</td>\n",
       "      <td>8.825057</td>\n",
       "      <td>Sakura-sou no Pet na Kanojo</td>\n",
       "    </tr>\n",
       "    <tr>\n",
       "      <th>5</th>\n",
       "      <td>44</td>\n",
       "      <td>8.799102</td>\n",
       "      <td>Rurouni Kenshin: Meiji Kenkaku Romantan - Tsui...</td>\n",
       "    </tr>\n",
       "    <tr>\n",
       "      <th>6</th>\n",
       "      <td>1210</td>\n",
       "      <td>8.792369</td>\n",
       "      <td>NHK ni Youkoso!</td>\n",
       "    </tr>\n",
       "    <tr>\n",
       "      <th>7</th>\n",
       "      <td>918</td>\n",
       "      <td>8.747168</td>\n",
       "      <td>Gintama</td>\n",
       "    </tr>\n",
       "    <tr>\n",
       "      <th>8</th>\n",
       "      <td>32281</td>\n",
       "      <td>8.741115</td>\n",
       "      <td>Kimi no Na wa.</td>\n",
       "    </tr>\n",
       "    <tr>\n",
       "      <th>9</th>\n",
       "      <td>28977</td>\n",
       "      <td>8.728587</td>\n",
       "      <td>Gintama°</td>\n",
       "    </tr>\n",
       "  </tbody>\n",
       "</table>\n",
       "</div>"
      ],
      "text/plain": [
       "     uid  pred_score                                              title\n",
       "0    263    8.989224                                     Hajime no Ippo\n",
       "1   7311    8.951124                      Suzumiya Haruhi no Shoushitsu\n",
       "2   5365    8.848104                                      Tsumiki no Ie\n",
       "3  37510    8.837533                                  Mob Psycho 100 II\n",
       "4  13759    8.825057                        Sakura-sou no Pet na Kanojo\n",
       "5     44    8.799102  Rurouni Kenshin: Meiji Kenkaku Romantan - Tsui...\n",
       "6   1210    8.792369                                    NHK ni Youkoso!\n",
       "7    918    8.747168                                            Gintama\n",
       "8  32281    8.741115                                     Kimi no Na wa.\n",
       "9  28977    8.728587                                           Gintama°"
      ]
     },
     "execution_count": 12,
     "metadata": {},
     "output_type": "execute_result"
    }
   ],
   "source": [
    "#overall highest predicted not seen shows based on whats seen\n",
    "user_id = 'skrn'\n",
    "all_anime = df_touse['uid'].unique()\n",
    "watched = df_touse[df_touse['profile']==user_id].uid\n",
    "not_watched = [anime for anime in all_anime if anime not in watched]\n",
    "\n",
    "# predict\n",
    "score = [model.predict(user_id, anime_id) for anime_id in not_watched]\n",
    "anime_id = []\n",
    "pred_score = []\n",
    "for i in range(0, len(score)):\n",
    "    anime_id.append(score[i].iid)\n",
    "    pred_score.append(score[i].est)\n",
    "df_pred = pd.DataFrame({'uid':anime_id, 'pred_score':pred_score})\n",
    "\n",
    "df_pred_real = df_pred.sort_values('pred_score', ascending=False).head(10)\n",
    "\n",
    "df_pred_real.merge(df_anime_touse, how='left', on='uid')"
   ]
  },
  {
   "cell_type": "code",
   "execution_count": null,
   "metadata": {},
   "outputs": [],
   "source": []
  },
  {
   "cell_type": "code",
   "execution_count": 13,
   "metadata": {},
   "outputs": [
    {
     "data": {
      "text/html": [
       "<div>\n",
       "<style scoped>\n",
       "    .dataframe tbody tr th:only-of-type {\n",
       "        vertical-align: middle;\n",
       "    }\n",
       "\n",
       "    .dataframe tbody tr th {\n",
       "        vertical-align: top;\n",
       "    }\n",
       "\n",
       "    .dataframe thead th {\n",
       "        text-align: right;\n",
       "    }\n",
       "</style>\n",
       "<table border=\"1\" class=\"dataframe\">\n",
       "  <thead>\n",
       "    <tr style=\"text-align: right;\">\n",
       "      <th></th>\n",
       "      <th>profile</th>\n",
       "      <th>uid</th>\n",
       "      <th>review_score</th>\n",
       "    </tr>\n",
       "  </thead>\n",
       "  <tbody>\n",
       "    <tr>\n",
       "      <th>0</th>\n",
       "      <td>skrn</td>\n",
       "      <td>28891</td>\n",
       "      <td>7</td>\n",
       "    </tr>\n",
       "    <tr>\n",
       "      <th>1</th>\n",
       "      <td>skrn</td>\n",
       "      <td>32935</td>\n",
       "      <td>8</td>\n",
       "    </tr>\n",
       "    <tr>\n",
       "      <th>2</th>\n",
       "      <td>skrn</td>\n",
       "      <td>30276</td>\n",
       "      <td>7</td>\n",
       "    </tr>\n",
       "    <tr>\n",
       "      <th>3</th>\n",
       "      <td>skrn</td>\n",
       "      <td>4107</td>\n",
       "      <td>7</td>\n",
       "    </tr>\n",
       "    <tr>\n",
       "      <th>4</th>\n",
       "      <td>skrn</td>\n",
       "      <td>4081</td>\n",
       "      <td>4</td>\n",
       "    </tr>\n",
       "    <tr>\n",
       "      <th>...</th>\n",
       "      <td>...</td>\n",
       "      <td>...</td>\n",
       "      <td>...</td>\n",
       "    </tr>\n",
       "    <tr>\n",
       "      <th>130514</th>\n",
       "      <td>sensei69</td>\n",
       "      <td>33082</td>\n",
       "      <td>5</td>\n",
       "    </tr>\n",
       "    <tr>\n",
       "      <th>130515</th>\n",
       "      <td>ssjtk</td>\n",
       "      <td>33082</td>\n",
       "      <td>8</td>\n",
       "    </tr>\n",
       "    <tr>\n",
       "      <th>130516</th>\n",
       "      <td>Ground_zero</td>\n",
       "      <td>33082</td>\n",
       "      <td>9</td>\n",
       "    </tr>\n",
       "    <tr>\n",
       "      <th>130517</th>\n",
       "      <td>ClawViper</td>\n",
       "      <td>33082</td>\n",
       "      <td>7</td>\n",
       "    </tr>\n",
       "    <tr>\n",
       "      <th>130518</th>\n",
       "      <td>LCSeixas</td>\n",
       "      <td>16934</td>\n",
       "      <td>6</td>\n",
       "    </tr>\n",
       "  </tbody>\n",
       "</table>\n",
       "<p>130519 rows × 3 columns</p>\n",
       "</div>"
      ],
      "text/plain": [
       "            profile    uid  review_score\n",
       "0              skrn  28891             7\n",
       "1              skrn  32935             8\n",
       "2              skrn  30276             7\n",
       "3              skrn   4107             7\n",
       "4              skrn   4081             4\n",
       "...             ...    ...           ...\n",
       "130514     sensei69  33082             5\n",
       "130515        ssjtk  33082             8\n",
       "130516  Ground_zero  33082             9\n",
       "130517    ClawViper  33082             7\n",
       "130518     LCSeixas  16934             6\n",
       "\n",
       "[130519 rows x 3 columns]"
      ]
     },
     "execution_count": 13,
     "metadata": {},
     "output_type": "execute_result"
    }
   ],
   "source": [
    "df_touse"
   ]
  },
  {
   "cell_type": "code",
   "execution_count": 14,
   "metadata": {},
   "outputs": [
    {
     "data": {
      "text/plain": [
       "28891"
      ]
     },
     "execution_count": 14,
     "metadata": {},
     "output_type": "execute_result"
    }
   ],
   "source": [
    "df_touse['uid'][0]"
   ]
  },
  {
   "cell_type": "markdown",
   "metadata": {},
   "source": [
    "## Testing Accuracy"
   ]
  },
  {
   "cell_type": "code",
   "execution_count": 20,
   "metadata": {},
   "outputs": [],
   "source": [
    "# Split the data into chunks\n",
    "chunk_size = 1000  # Adjust the chunk size as per your system's memory capacity\n",
    "num_chunks = int(np.ceil(len(df_touse) / chunk_size))\n",
    "chunks = np.array_split(df_touse, num_chunks)\n",
    "\n",
    "# Initialize the model\n",
    "model = SVD()\n",
    "\n",
    "# Iterate over the chunks and make predictions\n",
    "predictions = []\n",
    "for chunk in chunks:\n",
    "    # Prepare the data for the chunk\n",
    "    reader = Reader(rating_scale=(1, 10))\n",
    "    data = Dataset.load_from_df(chunk, reader)\n",
    "    trainset = data.build_full_trainset()\n",
    "\n",
    "    # Fit the model\n",
    "    model.fit(trainset)\n",
    "\n",
    "    # Generate predictions for the chunk\n",
    "    testset = trainset.build_anti_testset()\n",
    "    chunk_predictions = model.test(testset)\n",
    "\n",
    "    # Append the predictions to the overall list\n",
    "    predictions.extend(chunk_predictions)\n",
    "\n",
    "# Convert the predictions to a DataFrame\n",
    "df_predictions = pd.DataFrame(predictions)"
   ]
  },
  {
   "cell_type": "code",
   "execution_count": null,
   "metadata": {},
   "outputs": [],
   "source": [
    "actual_ratings = df_touse['review_score'].values  # True ratings from the DataFrame\n",
    "\n",
    "# Calculate accuracy percentage\n",
    "threshold = 0.5\n",
    "accurate_predictions = 0\n",
    "\n",
    "for i in range(len(predicted_ratings)):\n",
    "    diff = abs(predicted_ratings[i] - actual_ratings[i])\n",
    "    if diff <= threshold:\n",
    "        accurate_predictions += 1\n",
    "\n",
    "accuracy_percentage = (accurate_predictions / len(predicted_ratings)) * 100\n",
    "\n",
    "print(f\"Accuracy Percentage: {accuracy_percentage:.2f}%\")"
   ]
  }
 ],
 "metadata": {
  "kernelspec": {
   "display_name": "Python 3",
   "language": "python",
   "name": "python3"
  },
  "language_info": {
   "codemirror_mode": {
    "name": "ipython",
    "version": 3
   },
   "file_extension": ".py",
   "mimetype": "text/x-python",
   "name": "python",
   "nbconvert_exporter": "python",
   "pygments_lexer": "ipython3",
   "version": "3.10.9"
  }
 },
 "nbformat": 4,
 "nbformat_minor": 4
}
