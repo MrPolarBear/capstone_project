{
 "cells": [
  {
   "cell_type": "code",
   "execution_count": 19,
   "metadata": {},
   "outputs": [],
   "source": [
    "import numpy as np \n",
    "import os \n",
    "import pandas as pd \n",
    "import re\n",
    "import string\n",
    "import seaborn as sns\n",
    "import sklearn\n",
    "from surprise import Reader, Dataset, SVD, KNNBasic\n",
    "\n",
    "from surprise.accuracy import rmse\n",
    "\n",
    "\n",
    "from surprise.model_selection import cross_validate\n",
    "from surprise.model_selection import train_test_split\n",
    "import surprise\n",
    "from surprise import KNNWithMeans\n",
    "from surprise import Dataset\n",
    "from surprise import accuracy\n",
    "from surprise.model_selection import GridSearchCV"
   ]
  },
  {
   "cell_type": "code",
   "execution_count": 20,
   "metadata": {},
   "outputs": [],
   "source": [
    "df_anime = pd.read_csv(\"../data/df_anime_export.csv\")\n",
    "df_profile = pd.read_csv(\"../data/df_profile_export.csv\")\n",
    "df_review = pd.read_csv(\"../data/df_review_export.csv\")\n",
    "df_an_pro_rev = pd.read_csv(\"../data/merged_rev_df_export.csv\")\n",
    "df_an_pro = pd.read_csv(\"../data/merged_df_export.csv\")\n",
    "df_main = pd.read_csv(\"../data/df_prof_rev_anime_clean.csv\")"
   ]
  },
  {
   "cell_type": "code",
   "execution_count": 21,
   "metadata": {
    "scrolled": true
   },
   "outputs": [
    {
     "data": {
      "text/html": [
       "<div>\n",
       "<style scoped>\n",
       "    .dataframe tbody tr th:only-of-type {\n",
       "        vertical-align: middle;\n",
       "    }\n",
       "\n",
       "    .dataframe tbody tr th {\n",
       "        vertical-align: top;\n",
       "    }\n",
       "\n",
       "    .dataframe thead th {\n",
       "        text-align: right;\n",
       "    }\n",
       "</style>\n",
       "<table border=\"1\" class=\"dataframe\">\n",
       "  <thead>\n",
       "    <tr style=\"text-align: right;\">\n",
       "      <th></th>\n",
       "      <th>Unnamed: 0.1</th>\n",
       "      <th>uid</th>\n",
       "      <th>title</th>\n",
       "      <th>synopsis</th>\n",
       "      <th>genre</th>\n",
       "      <th>aired</th>\n",
       "      <th>episodes</th>\n",
       "      <th>members</th>\n",
       "      <th>popularity</th>\n",
       "      <th>ranked</th>\n",
       "      <th>score</th>\n",
       "      <th>synopsis_processed</th>\n",
       "      <th>profile</th>\n",
       "      <th>review_score</th>\n",
       "      <th>review_score_indepth</th>\n",
       "      <th>text_preprocessed</th>\n",
       "      <th>Unnamed: 0</th>\n",
       "      <th>gender</th>\n",
       "      <th>birthday</th>\n",
       "      <th>favorites_anime</th>\n",
       "    </tr>\n",
       "  </thead>\n",
       "  <tbody>\n",
       "    <tr>\n",
       "      <th>0</th>\n",
       "      <td>0</td>\n",
       "      <td>28891</td>\n",
       "      <td>Haikyuu!! Second Season</td>\n",
       "      <td>Following their participation at the Inter-Hig...</td>\n",
       "      <td>['Comedy', 'Sports', 'Drama', 'School', 'Shoun...</td>\n",
       "      <td>Oct 4, 2015 to Mar 27, 2016</td>\n",
       "      <td>25.0</td>\n",
       "      <td>489888</td>\n",
       "      <td>141</td>\n",
       "      <td>25.0</td>\n",
       "      <td>8.82</td>\n",
       "      <td>following participation inter-high , karasuno ...</td>\n",
       "      <td>skrn</td>\n",
       "      <td>7</td>\n",
       "      <td>{'Overall': '7', 'Story': '7', 'Animation': '9...</td>\n",
       "      <td>art : great , especially action critical momen...</td>\n",
       "      <td>2</td>\n",
       "      <td>NaN</td>\n",
       "      <td>NaN</td>\n",
       "      <td>['918', '2904', '11741', '17074', '23273', '32...</td>\n",
       "    </tr>\n",
       "  </tbody>\n",
       "</table>\n",
       "</div>"
      ],
      "text/plain": [
       "   Unnamed: 0.1    uid                    title  \\\n",
       "0             0  28891  Haikyuu!! Second Season   \n",
       "\n",
       "                                            synopsis  \\\n",
       "0  Following their participation at the Inter-Hig...   \n",
       "\n",
       "                                               genre  \\\n",
       "0  ['Comedy', 'Sports', 'Drama', 'School', 'Shoun...   \n",
       "\n",
       "                         aired  episodes  members  popularity  ranked  score  \\\n",
       "0  Oct 4, 2015 to Mar 27, 2016      25.0   489888         141    25.0   8.82   \n",
       "\n",
       "                                  synopsis_processed profile  review_score  \\\n",
       "0  following participation inter-high , karasuno ...    skrn             7   \n",
       "\n",
       "                                review_score_indepth  \\\n",
       "0  {'Overall': '7', 'Story': '7', 'Animation': '9...   \n",
       "\n",
       "                                   text_preprocessed  Unnamed: 0 gender  \\\n",
       "0  art : great , especially action critical momen...           2    NaN   \n",
       "\n",
       "  birthday                                    favorites_anime  \n",
       "0      NaN  ['918', '2904', '11741', '17074', '23273', '32...  "
      ]
     },
     "execution_count": 21,
     "metadata": {},
     "output_type": "execute_result"
    }
   ],
   "source": [
    "df_main.head(1)"
   ]
  },
  {
   "cell_type": "markdown",
   "metadata": {},
   "source": [
    "## Collab Filter a bit cleaner"
   ]
  },
  {
   "cell_type": "code",
   "execution_count": 22,
   "metadata": {},
   "outputs": [],
   "source": [
    "df_touse = df_main[[\"profile\", \"uid\", \"review_score\"]]"
   ]
  },
  {
   "cell_type": "code",
   "execution_count": 23,
   "metadata": {},
   "outputs": [
    {
     "data": {
      "text/html": [
       "<div>\n",
       "<style scoped>\n",
       "    .dataframe tbody tr th:only-of-type {\n",
       "        vertical-align: middle;\n",
       "    }\n",
       "\n",
       "    .dataframe tbody tr th {\n",
       "        vertical-align: top;\n",
       "    }\n",
       "\n",
       "    .dataframe thead th {\n",
       "        text-align: right;\n",
       "    }\n",
       "</style>\n",
       "<table border=\"1\" class=\"dataframe\">\n",
       "  <thead>\n",
       "    <tr style=\"text-align: right;\">\n",
       "      <th></th>\n",
       "      <th>Unnamed: 0</th>\n",
       "      <th>uid</th>\n",
       "      <th>title</th>\n",
       "      <th>synopsis</th>\n",
       "      <th>genre</th>\n",
       "      <th>aired</th>\n",
       "      <th>episodes</th>\n",
       "      <th>members</th>\n",
       "      <th>popularity</th>\n",
       "      <th>ranked</th>\n",
       "      <th>score</th>\n",
       "      <th>synopsis_processed</th>\n",
       "    </tr>\n",
       "  </thead>\n",
       "  <tbody>\n",
       "    <tr>\n",
       "      <th>0</th>\n",
       "      <td>0</td>\n",
       "      <td>28891</td>\n",
       "      <td>Haikyuu!! Second Season</td>\n",
       "      <td>Following their participation at the Inter-Hig...</td>\n",
       "      <td>['Comedy', 'Sports', 'Drama', 'School', 'Shoun...</td>\n",
       "      <td>Oct 4, 2015 to Mar 27, 2016</td>\n",
       "      <td>25.0</td>\n",
       "      <td>489888</td>\n",
       "      <td>141</td>\n",
       "      <td>25.0</td>\n",
       "      <td>8.82</td>\n",
       "      <td>following participation inter-high , karasuno ...</td>\n",
       "    </tr>\n",
       "  </tbody>\n",
       "</table>\n",
       "</div>"
      ],
      "text/plain": [
       "   Unnamed: 0    uid                    title  \\\n",
       "0           0  28891  Haikyuu!! Second Season   \n",
       "\n",
       "                                            synopsis  \\\n",
       "0  Following their participation at the Inter-Hig...   \n",
       "\n",
       "                                               genre  \\\n",
       "0  ['Comedy', 'Sports', 'Drama', 'School', 'Shoun...   \n",
       "\n",
       "                         aired  episodes  members  popularity  ranked  score  \\\n",
       "0  Oct 4, 2015 to Mar 27, 2016      25.0   489888         141    25.0   8.82   \n",
       "\n",
       "                                  synopsis_processed  \n",
       "0  following participation inter-high , karasuno ...  "
      ]
     },
     "execution_count": 23,
     "metadata": {},
     "output_type": "execute_result"
    }
   ],
   "source": [
    "df_anime.head(1)"
   ]
  },
  {
   "cell_type": "code",
   "execution_count": 24,
   "metadata": {},
   "outputs": [],
   "source": [
    "df_anime_touse = df_anime[[\"uid\", \"title\"]]"
   ]
  },
  {
   "cell_type": "code",
   "execution_count": 25,
   "metadata": {},
   "outputs": [],
   "source": [
    "df = Dataset.load_from_df(df_touse, Reader(rating_scale=(1,10)))\n",
    "trainset = df.build_full_trainset()"
   ]
  },
  {
   "cell_type": "code",
   "execution_count": 29,
   "metadata": {},
   "outputs": [
    {
     "name": "stdout",
     "output_type": "stream",
     "text": [
      "Evaluating RMSE, MAE of algorithm SVD on 5 split(s).\n",
      "\n",
      "                  Fold 1  Fold 2  Fold 3  Fold 4  Fold 5  Mean    Std     \n",
      "RMSE (testset)    1.9719  1.9774  1.9759  1.9823  1.9948  1.9804  0.0079  \n",
      "MAE (testset)     1.5215  1.5241  1.5203  1.5335  1.5337  1.5266  0.0059  \n",
      "Fit time          1.56    1.38    1.51    1.42    1.50    1.47    0.07    \n",
      "Test time         0.17    0.37    0.16    0.16    0.36    0.24    0.10    \n"
     ]
    },
    {
     "data": {
      "text/plain": [
       "{'test_rmse': array([1.97187106, 1.97737511, 1.97587302, 1.98233606, 1.9947752 ]),\n",
       " 'test_mae': array([1.52145495, 1.52406345, 1.5202852 , 1.53352173, 1.53372599]),\n",
       " 'fit_time': (1.559349775314331,\n",
       "  1.3801090717315674,\n",
       "  1.5131442546844482,\n",
       "  1.4203205108642578,\n",
       "  1.5003361701965332),\n",
       " 'test_time': (0.1710371971130371,\n",
       "  0.3680858612060547,\n",
       "  0.15903496742248535,\n",
       "  0.1600334644317627,\n",
       "  0.3600797653198242)}"
      ]
     },
     "execution_count": 29,
     "metadata": {},
     "output_type": "execute_result"
    }
   ],
   "source": [
    "model = SVD()\n",
    "cross_validate(model, df, measures=[\"RMSE\", \"MAE\"], cv=5, verbose=True)"
   ]
  },
  {
   "cell_type": "code",
   "execution_count": 30,
   "metadata": {},
   "outputs": [
    {
     "data": {
      "text/plain": [
       "Prediction(uid='skrn', iid=30, r_ui=None, est=6.184150466905168, details={'was_impossible': False})"
      ]
     },
     "execution_count": 30,
     "metadata": {},
     "output_type": "execute_result"
    }
   ],
   "source": [
    "#single prediction\n",
    "model.predict('skrn', 30)"
   ]
  },
  {
   "cell_type": "code",
   "execution_count": 31,
   "metadata": {},
   "outputs": [
    {
     "data": {
      "text/html": [
       "<div>\n",
       "<style scoped>\n",
       "    .dataframe tbody tr th:only-of-type {\n",
       "        vertical-align: middle;\n",
       "    }\n",
       "\n",
       "    .dataframe tbody tr th {\n",
       "        vertical-align: top;\n",
       "    }\n",
       "\n",
       "    .dataframe thead th {\n",
       "        text-align: right;\n",
       "    }\n",
       "</style>\n",
       "<table border=\"1\" class=\"dataframe\">\n",
       "  <thead>\n",
       "    <tr style=\"text-align: right;\">\n",
       "      <th></th>\n",
       "      <th>uid</th>\n",
       "      <th>pred_score</th>\n",
       "      <th>title</th>\n",
       "    </tr>\n",
       "  </thead>\n",
       "  <tbody>\n",
       "    <tr>\n",
       "      <th>0</th>\n",
       "      <td>918</td>\n",
       "      <td>8.856259</td>\n",
       "      <td>Gintama</td>\n",
       "    </tr>\n",
       "    <tr>\n",
       "      <th>1</th>\n",
       "      <td>5114</td>\n",
       "      <td>8.793556</td>\n",
       "      <td>Fullmetal Alchemist: Brotherhood</td>\n",
       "    </tr>\n",
       "    <tr>\n",
       "      <th>2</th>\n",
       "      <td>35247</td>\n",
       "      <td>8.651724</td>\n",
       "      <td>Owarimonogatari 2nd Season</td>\n",
       "    </tr>\n",
       "    <tr>\n",
       "      <th>3</th>\n",
       "      <td>7311</td>\n",
       "      <td>8.567288</td>\n",
       "      <td>Suzumiya Haruhi no Shoushitsu</td>\n",
       "    </tr>\n",
       "    <tr>\n",
       "      <th>4</th>\n",
       "      <td>28977</td>\n",
       "      <td>8.566027</td>\n",
       "      <td>Gintama°</td>\n",
       "    </tr>\n",
       "    <tr>\n",
       "      <th>5</th>\n",
       "      <td>3297</td>\n",
       "      <td>8.554141</td>\n",
       "      <td>Aria The Origination</td>\n",
       "    </tr>\n",
       "    <tr>\n",
       "      <th>6</th>\n",
       "      <td>9756</td>\n",
       "      <td>8.538318</td>\n",
       "      <td>Mahou Shoujo Madoka★Magica</td>\n",
       "    </tr>\n",
       "    <tr>\n",
       "      <th>7</th>\n",
       "      <td>4181</td>\n",
       "      <td>8.486295</td>\n",
       "      <td>Clannad: After Story</td>\n",
       "    </tr>\n",
       "    <tr>\n",
       "      <th>8</th>\n",
       "      <td>34599</td>\n",
       "      <td>8.460276</td>\n",
       "      <td>Made in Abyss</td>\n",
       "    </tr>\n",
       "    <tr>\n",
       "      <th>9</th>\n",
       "      <td>15335</td>\n",
       "      <td>8.414477</td>\n",
       "      <td>Gintama Movie 2: Kanketsu-hen - Yorozuya yo Ei...</td>\n",
       "    </tr>\n",
       "  </tbody>\n",
       "</table>\n",
       "</div>"
      ],
      "text/plain": [
       "     uid  pred_score                                              title\n",
       "0    918    8.856259                                            Gintama\n",
       "1   5114    8.793556                   Fullmetal Alchemist: Brotherhood\n",
       "2  35247    8.651724                         Owarimonogatari 2nd Season\n",
       "3   7311    8.567288                      Suzumiya Haruhi no Shoushitsu\n",
       "4  28977    8.566027                                           Gintama°\n",
       "5   3297    8.554141                               Aria The Origination\n",
       "6   9756    8.538318                         Mahou Shoujo Madoka★Magica\n",
       "7   4181    8.486295                               Clannad: After Story\n",
       "8  34599    8.460276                                      Made in Abyss\n",
       "9  15335    8.414477  Gintama Movie 2: Kanketsu-hen - Yorozuya yo Ei..."
      ]
     },
     "execution_count": 31,
     "metadata": {},
     "output_type": "execute_result"
    }
   ],
   "source": [
    "#overall highest predicted not seen shows based on whats seen\n",
    "user_id = 'skrn'\n",
    "all_anime = df_touse['uid'].unique()\n",
    "watched = df_touse[df_touse['profile']==user_id].uid\n",
    "not_watched = [anime for anime in all_anime if anime not in watched]\n",
    "\n",
    "# predict\n",
    "score = [model.predict(user_id, anime_id) for anime_id in not_watched]\n",
    "anime_id = []\n",
    "pred_score = []\n",
    "for i in range(0, len(score)):\n",
    "    anime_id.append(score[i].iid)\n",
    "    pred_score.append(score[i].est)\n",
    "df_pred = pd.DataFrame({'uid':anime_id, 'pred_score':pred_score})\n",
    "\n",
    "df_pred_real = df_pred.sort_values('pred_score', ascending=False).head(10)\n",
    "\n",
    "df_pred_real.merge(df_anime_touse, how='left', on='uid')"
   ]
  },
  {
   "cell_type": "code",
   "execution_count": null,
   "metadata": {},
   "outputs": [],
   "source": []
  },
  {
   "cell_type": "code",
   "execution_count": null,
   "metadata": {},
   "outputs": [
    {
     "data": {
      "text/html": [
       "<div>\n",
       "<style scoped>\n",
       "    .dataframe tbody tr th:only-of-type {\n",
       "        vertical-align: middle;\n",
       "    }\n",
       "\n",
       "    .dataframe tbody tr th {\n",
       "        vertical-align: top;\n",
       "    }\n",
       "\n",
       "    .dataframe thead th {\n",
       "        text-align: right;\n",
       "    }\n",
       "</style>\n",
       "<table border=\"1\" class=\"dataframe\">\n",
       "  <thead>\n",
       "    <tr style=\"text-align: right;\">\n",
       "      <th></th>\n",
       "      <th>profile</th>\n",
       "      <th>uid</th>\n",
       "      <th>review_score</th>\n",
       "    </tr>\n",
       "  </thead>\n",
       "  <tbody>\n",
       "    <tr>\n",
       "      <th>0</th>\n",
       "      <td>skrn</td>\n",
       "      <td>28891</td>\n",
       "      <td>7</td>\n",
       "    </tr>\n",
       "    <tr>\n",
       "      <th>1</th>\n",
       "      <td>skrn</td>\n",
       "      <td>32935</td>\n",
       "      <td>8</td>\n",
       "    </tr>\n",
       "    <tr>\n",
       "      <th>2</th>\n",
       "      <td>skrn</td>\n",
       "      <td>30276</td>\n",
       "      <td>7</td>\n",
       "    </tr>\n",
       "    <tr>\n",
       "      <th>3</th>\n",
       "      <td>skrn</td>\n",
       "      <td>4107</td>\n",
       "      <td>7</td>\n",
       "    </tr>\n",
       "    <tr>\n",
       "      <th>4</th>\n",
       "      <td>skrn</td>\n",
       "      <td>4081</td>\n",
       "      <td>4</td>\n",
       "    </tr>\n",
       "    <tr>\n",
       "      <th>...</th>\n",
       "      <td>...</td>\n",
       "      <td>...</td>\n",
       "      <td>...</td>\n",
       "    </tr>\n",
       "    <tr>\n",
       "      <th>130514</th>\n",
       "      <td>sensei69</td>\n",
       "      <td>33082</td>\n",
       "      <td>5</td>\n",
       "    </tr>\n",
       "    <tr>\n",
       "      <th>130515</th>\n",
       "      <td>ssjtk</td>\n",
       "      <td>33082</td>\n",
       "      <td>8</td>\n",
       "    </tr>\n",
       "    <tr>\n",
       "      <th>130516</th>\n",
       "      <td>Ground_zero</td>\n",
       "      <td>33082</td>\n",
       "      <td>9</td>\n",
       "    </tr>\n",
       "    <tr>\n",
       "      <th>130517</th>\n",
       "      <td>ClawViper</td>\n",
       "      <td>33082</td>\n",
       "      <td>7</td>\n",
       "    </tr>\n",
       "    <tr>\n",
       "      <th>130518</th>\n",
       "      <td>LCSeixas</td>\n",
       "      <td>16934</td>\n",
       "      <td>6</td>\n",
       "    </tr>\n",
       "  </tbody>\n",
       "</table>\n",
       "<p>130519 rows × 3 columns</p>\n",
       "</div>"
      ],
      "text/plain": [
       "            profile    uid  review_score\n",
       "0              skrn  28891             7\n",
       "1              skrn  32935             8\n",
       "2              skrn  30276             7\n",
       "3              skrn   4107             7\n",
       "4              skrn   4081             4\n",
       "...             ...    ...           ...\n",
       "130514     sensei69  33082             5\n",
       "130515        ssjtk  33082             8\n",
       "130516  Ground_zero  33082             9\n",
       "130517    ClawViper  33082             7\n",
       "130518     LCSeixas  16934             6\n",
       "\n",
       "[130519 rows x 3 columns]"
      ]
     },
     "execution_count": 13,
     "metadata": {},
     "output_type": "execute_result"
    }
   ],
   "source": [
    "df_touse"
   ]
  },
  {
   "cell_type": "code",
   "execution_count": null,
   "metadata": {},
   "outputs": [
    {
     "data": {
      "text/plain": [
       "28891"
      ]
     },
     "execution_count": 14,
     "metadata": {},
     "output_type": "execute_result"
    }
   ],
   "source": [
    "df_touse['uid'][0]"
   ]
  },
  {
   "cell_type": "markdown",
   "metadata": {},
   "source": [
    "## Testing Accuracy"
   ]
  },
  {
   "cell_type": "code",
   "execution_count": null,
   "metadata": {},
   "outputs": [
    {
     "name": "stdout",
     "output_type": "stream",
     "text": [
      "Average Accuracy: 0.8899373219373222\n"
     ]
    }
   ],
   "source": [
    "reader = Reader(rating_scale=(1, 10))\n",
    "data = Dataset.load_from_df(df_touse, reader)\n",
    "\n",
    "# Build the full training set\n",
    "trainset = data.build_full_trainset()\n",
    "\n",
    "# Train the SVD model\n",
    "model = SVD()\n",
    "model.fit(trainset)\n",
    "\n",
    "# Split the dataset into training and testing sets\n",
    "trainset, testset = train_test_split(data, test_size=0.2)\n",
    "\n",
    "# Chunk the testset into groups of 1000\n",
    "chunk_size = 1000\n",
    "num_chunks = len(testset) // chunk_size\n",
    "if len(testset) % chunk_size != 0:\n",
    "    num_chunks += 1\n",
    "\n",
    "# Calculate accuracy for each chunk\n",
    "accuracies = []\n",
    "tolerance = 1  # Tolerance for correctness\n",
    "\n",
    "for i in range(num_chunks):\n",
    "    start_idx = i * chunk_size\n",
    "    end_idx = start_idx + chunk_size\n",
    "    chunk = testset[start_idx:end_idx]\n",
    "    predictions = model.test(chunk)\n",
    "\n",
    "    # Calculate accuracy for the chunk\n",
    "    num_correct = 0\n",
    "    for prediction in predictions:\n",
    "        uid = prediction.uid\n",
    "        iid = prediction.iid\n",
    "        actual_rating = prediction.r_ui\n",
    "        predicted_rating = round(prediction.est)\n",
    "        if abs(actual_rating - predicted_rating) <= tolerance:\n",
    "            num_correct += 1\n",
    "\n",
    "    # Calculate accuracy for the chunk\n",
    "    accuracy = num_correct / len(chunk)\n",
    "    accuracies.append(accuracy)\n",
    "\n",
    "# Calculate the average accuracy across all chunks\n",
    "average_accuracy = np.mean(accuracies)\n",
    "\n",
    "print('Average Accuracy:', average_accuracy)"
   ]
  },
  {
   "cell_type": "code",
   "execution_count": null,
   "metadata": {},
   "outputs": [],
   "source": []
  }
 ],
 "metadata": {
  "kernelspec": {
   "display_name": "Python 3",
   "language": "python",
   "name": "python3"
  },
  "language_info": {
   "codemirror_mode": {
    "name": "ipython",
    "version": 3
   },
   "file_extension": ".py",
   "mimetype": "text/x-python",
   "name": "python",
   "nbconvert_exporter": "python",
   "pygments_lexer": "ipython3",
   "version": "3.10.9"
  }
 },
 "nbformat": 4,
 "nbformat_minor": 4
}
