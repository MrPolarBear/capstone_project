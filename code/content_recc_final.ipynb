{
 "cells": [
  {
   "cell_type": "code",
   "execution_count": 2,
   "metadata": {},
   "outputs": [],
   "source": [
    "import numpy as np \n",
    "import os \n",
    "import pandas as pd \n",
    "import re\n",
    "import string\n",
    "import seaborn as sns\n",
    "from rake_nltk import Rake\n",
    "import sklearn\n",
    "from sklearn.feature_extraction.text import CountVectorizer\n",
    "from sklearn.metrics.pairwise import cosine_similarity\n",
    "from scipy.sparse import vstack\n",
    "from fuzzywuzzy import fuzz\n",
    "from sklearn.feature_extraction.text import TfidfVectorizer\n",
    "from scipy.sparse import csr_matrix, hstack"
   ]
  },
  {
   "cell_type": "code",
   "execution_count": 3,
   "metadata": {},
   "outputs": [],
   "source": [
    "df_anime = pd.read_csv(\"../data/df_anime_export.csv\")"
   ]
  },
  {
   "cell_type": "markdown",
   "metadata": {},
   "source": [
    "# View Resetter"
   ]
  },
  {
   "cell_type": "code",
   "execution_count": 4,
   "metadata": {},
   "outputs": [],
   "source": [
    "pd.set_option('display.max_columns', None)\n",
    "pd.set_option('display.max_rows', None)\n",
    "pd.set_option('display.max_colwidth', None)"
   ]
  },
  {
   "cell_type": "code",
   "execution_count": 5,
   "metadata": {},
   "outputs": [],
   "source": [
    "pd.reset_option('display.max_columns')\n",
    "pd.reset_option('display.max_rows')\n",
    "pd.reset_option('display.max_colwidth')"
   ]
  },
  {
   "cell_type": "code",
   "execution_count": 6,
   "metadata": {},
   "outputs": [],
   "source": [
    "synopsis = df_anime['synopsis_processed']\n",
    "genre = df_anime['genre']\n",
    "title = df_anime['title']"
   ]
  },
  {
   "cell_type": "markdown",
   "metadata": {},
   "source": [
    "# Cleaning Anime_Df before being used"
   ]
  },
  {
   "cell_type": "code",
   "execution_count": 7,
   "metadata": {},
   "outputs": [],
   "source": [
    "for idx, genre in enumerate(df_anime['genre']):\n",
    "    df_anime.at[idx, 'genre'] = genre.replace('Martial Arts', 'Martial_Arts')\n",
    "    df_anime.at[idx, 'genre'] = genre.replace('Super Power', 'Super_Power')\n",
    "    df_anime.at[idx, 'genre'] = genre.replace('Slice of Life', 'Slice_of_Life')"
   ]
  },
  {
   "cell_type": "code",
   "execution_count": 8,
   "metadata": {},
   "outputs": [
    {
     "name": "stderr",
     "output_type": "stream",
     "text": [
      "C:\\Users\\samue\\AppData\\Local\\Temp\\ipykernel_8276\\424644538.py:7: SettingWithCopyWarning: \n",
      "A value is trying to be set on a copy of a slice from a DataFrame\n",
      "\n",
      "See the caveats in the documentation: https://pandas.pydata.org/pandas-docs/stable/user_guide/indexing.html#returning-a-view-versus-a-copy\n",
      "  df_anime['genre'].iloc[idx] = row_genre\n"
     ]
    }
   ],
   "source": [
    "#clean genre so it can be used in the rec system\n",
    "for idx, row_genre in enumerate(df_anime['genre']):\n",
    "    row_genre = row_genre.replace(\"'\",'')\n",
    "    row_genre = row_genre.replace(\",\",'')\n",
    "    row_genre = row_genre.replace(\"]\",\"\")\n",
    "    row_genre = row_genre.replace(\"[\",\"\")\n",
    "    df_anime['genre'].iloc[idx] = row_genre"
   ]
  },
  {
   "cell_type": "code",
   "execution_count": 9,
   "metadata": {},
   "outputs": [],
   "source": [
    "# Calculate the minimum and maximum values of the 'popularity' column\n",
    "min_popularity = df_anime['popularity'].min()\n",
    "max_popularity = df_anime['popularity'].max()\n",
    "\n",
    "# Perform min-max scaling on the 'popularity' column\n",
    "df_anime['popularity_normalized'] = (df_anime['popularity'] - min_popularity) / (max_popularity - min_popularity)"
   ]
  },
  {
   "cell_type": "code",
   "execution_count": 10,
   "metadata": {},
   "outputs": [
    {
     "name": "stdout",
     "output_type": "stream",
     "text": [
      "<class 'pandas.core.frame.DataFrame'>\n",
      "Int64Index: 16207 entries, 0 to 16213\n",
      "Data columns (total 13 columns):\n",
      " #   Column                 Non-Null Count  Dtype  \n",
      "---  ------                 --------------  -----  \n",
      " 0   Unnamed: 0             16207 non-null  int64  \n",
      " 1   uid                    16207 non-null  int64  \n",
      " 2   title                  16207 non-null  object \n",
      " 3   synopsis               16207 non-null  object \n",
      " 4   genre                  16207 non-null  object \n",
      " 5   aired                  16207 non-null  object \n",
      " 6   episodes               16207 non-null  float64\n",
      " 7   members                16207 non-null  int64  \n",
      " 8   popularity             16207 non-null  int64  \n",
      " 9   ranked                 16207 non-null  float64\n",
      " 10  score                  16207 non-null  float64\n",
      " 11  synopsis_processed     16207 non-null  object \n",
      " 12  popularity_normalized  16207 non-null  float64\n",
      "dtypes: float64(4), int64(4), object(5)\n",
      "memory usage: 1.7+ MB\n"
     ]
    }
   ],
   "source": [
    "df_anime.dropna(inplace = True)\n",
    "df_anime.info()"
   ]
  },
  {
   "cell_type": "markdown",
   "metadata": {},
   "source": [
    "# List of recommender functions"
   ]
  },
  {
   "cell_type": "code",
   "execution_count": 11,
   "metadata": {},
   "outputs": [],
   "source": [
    "# Regular recommender, returns similar titles\n",
    "def recommend_reg(show_title, n_recom, vectorized_bag_of_words, title, df):\n",
    "    similarity_matrix = cosine_similarity(vectorized_bag_of_words, vectorized_bag_of_words[list(np.where(title == show_title)[0]), :])\n",
    "    similarity_dataframe = pd.DataFrame(similarity_matrix)\n",
    "    similarity_dataframe.index = title\n",
    "    similarity_dataframe = similarity_dataframe.iloc[:, 0]\n",
    "\n",
    "    # Calculate the popularity weights\n",
    "    max_popularity = df['popularity_normalized'].max()\n",
    "    popularity_weights = (max_popularity - df['popularity_normalized']) / max_popularity\n",
    "\n",
    "    # Multiply the similarity scores by popularity weights\n",
    "    weighted_similarity = similarity_dataframe.values * popularity_weights.values\n",
    "\n",
    "    similarity_dataframe = pd.Series(weighted_similarity, index=similarity_dataframe.index)\n",
    "    similarity_dataframe = similarity_dataframe.sort_values(ascending=False)\n",
    "\n",
    "    # Exclude the show_title from the recommended titles\n",
    "    recommended_titles = list(similarity_dataframe.index)\n",
    "    recommended_titles = [title for title in recommended_titles if title != show_title]\n",
    "\n",
    "    return recommended_titles[:n_recom]"
   ]
  },
  {
   "cell_type": "code",
   "execution_count": 12,
   "metadata": {},
   "outputs": [],
   "source": [
    "# Removes titles similar\n",
    "def recommend_remove_sim(show_title, n_recom, vectorized_bag_of_words, title, df):\n",
    "    show_indices = np.where(title == show_title)[0]\n",
    "    if len(show_indices) == 0:\n",
    "        print(f\"Show title '{show_title}' not found in the DataFrame.\")\n",
    "        return []  # Return an empty list if the show title is not found\n",
    "\n",
    "    similarity_matrix = cosine_similarity(vectorized_bag_of_words, vectorized_bag_of_words[list(np.where(title == show_title)[0]), :])\n",
    "    similarity_dataframe = pd.DataFrame(similarity_matrix)\n",
    "    similarity_dataframe.index = title\n",
    "    similarity_dataframe = similarity_dataframe.iloc[:, [0]]\n",
    "\n",
    "    # Calculate the popularity weights\n",
    "    max_popularity = df['popularity_normalized'].max()\n",
    "    popularity_weights = (1 - df['popularity_normalized']) / max_popularity\n",
    "\n",
    "    # Multiply the similarity scores by popularity weights\n",
    "    similarity_dataframe *= popularity_weights\n",
    "\n",
    "    similarity_dataframe = similarity_dataframe.sort_values(by=0, ascending=False)\n",
    "    similarity_dataframe = similarity_dataframe.drop_duplicates()\n",
    "\n",
    "    recommended_titles = list(similarity_dataframe.index)\n",
    "    recommended_titles = [title for title in recommended_titles if show_title not in title]  # Remove titles containing the show_title input\n",
    "    #recommended_titles = [title for title in recommended_titles if show_title not in title or show_title == title]\n",
    "\n",
    "    return recommended_titles[:n_recom]"
   ]
  },
  {
   "cell_type": "code",
   "execution_count": 13,
   "metadata": {},
   "outputs": [],
   "source": [
    "# Considers ALL titles similar to input + popularity\n",
    "def recommend_all_sim(show_title, n_recom, vectorized_bag_of_words, title, df):\n",
    "    show_indices = np.where(title == show_title)[0]\n",
    "    if len(show_indices) == 0:\n",
    "        print(f\"Show title '{show_title}' not found in the DataFrame.\")\n",
    "        return []  # Return an empty list if the show title is not found\n",
    "\n",
    "    similarity_matrix = cosine_similarity(vectorized_bag_of_words, vectorized_bag_of_words[list(np.where(title == show_title)[0]), :])\n",
    "    similarity_dataframe = pd.DataFrame(similarity_matrix)\n",
    "    similarity_dataframe.index = title\n",
    "\n",
    "    similarity_dataframe = similarity_dataframe.iloc[:, [0]]\n",
    "\n",
    "    # Calculate the popularity weights\n",
    "    max_popularity = df['popularity_normalized'].max()\n",
    "    \n",
    "    popularity_weights = (1 - df['popularity_normalized']) / max_popularity\n",
    "\n",
    "    #print(popularity_weights)\n",
    "\n",
    "    # Multiply the similarity scores by popularity weights\n",
    "    similarity_dataframe *= popularity_weights\n",
    "\n",
    "    similarity_dataframe = similarity_dataframe.sort_values(by = 0, ascending=False)\n",
    "    similarity_dataframe = similarity_dataframe.drop_duplicates()\n",
    "\n",
    "    # Find similar titles using fuzzy matching\n",
    "    similar_titles = []\n",
    "    for title in similarity_dataframe.index:\n",
    "        if fuzz.partial_ratio(show_title, title) >= 30:  # Set a threshold for similarity\n",
    "            if show_title not in title:\n",
    "                similar_titles.append(title)\n",
    "\n",
    "    return similar_titles[:n_recom]"
   ]
  },
  {
   "cell_type": "code",
   "execution_count": 14,
   "metadata": {},
   "outputs": [],
   "source": [
    "def vectorize_genre_and_words(genre_column, synopsis, genre_weight=2.0, words_weight=1.0):\n",
    "    #extracting keywords for recommender\n",
    "    rake = Rake()\n",
    "    words = []\n",
    "    for plot in synopsis:\n",
    "        rake.extract_keywords_from_text(str(plot))\n",
    "        keywords_i = rake.get_ranked_phrases()\n",
    "        keywords_i_string = \"\"\n",
    "        for keyword in keywords_i:\n",
    "            keywords_i_string = keywords_i_string + \" \" + keyword\n",
    "        words.append(keywords_i_string)\n",
    "    #temp_df['words'] = words\n",
    "    # Ended up not needing above\n",
    "    \n",
    "    #Adjust weight as needed\n",
    "    # Combine genre and words into a single column\n",
    "    #combined_column = genre_column + words\n",
    "    # This ^ ultimately ended up not being used, will leave in for legacy\n",
    "\n",
    "    # Create a TF-IDF vectorizer\n",
    "    vectorizer_words = TfidfVectorizer()\n",
    "    vectorized_words = vectorizer_words.fit_transform(words)\n",
    "                                                    #try temp_df['words'] if words dont work\n",
    "\n",
    "    # Create a TF-IDF vectorizer\n",
    "    vectorizer_genre = TfidfVectorizer()\n",
    "    vectorized_genre = vectorizer_genre.fit_transform(genre_column)\n",
    "\n",
    "    # Get the number of genres\n",
    "    num_genre_features = vectorized_genre.shape[1]\n",
    "\n",
    "    # Apply the weights to the genre and words vectors\n",
    "    weighted_vectorized_genre = vectorized_genre.multiply(genre_weight)\n",
    "    weighted_vectorized_words = vectorized_words.multiply(words_weight)\n",
    "\n",
    "    # Combine the genre and words vectors\n",
    "    vectorized_combined = hstack([weighted_vectorized_genre, weighted_vectorized_words])\n",
    "\n",
    "    # Convert to csr_matrix\n",
    "    vectorized_combined = csr_matrix(vectorized_combined)\n",
    "\n",
    "    # Convert to array\n",
    "    vectorized_combined = vectorized_combined.toarray()\n",
    "\n",
    "    return vectorized_combined"
   ]
  },
  {
   "cell_type": "markdown",
   "metadata": {},
   "source": [
    "# First Recc Model just using CountVect (conclusion and why this sucks at end)"
   ]
  },
  {
   "cell_type": "markdown",
   "metadata": {},
   "source": [
    "## Preparation"
   ]
  },
  {
   "cell_type": "code",
   "execution_count": 15,
   "metadata": {},
   "outputs": [],
   "source": [
    "#prepping dfs to use\n",
    "df_touse = df_anime[[\"synopsis_processed\",\"genre\",\"title\",\"popularity\", \"popularity_normalized\"]]\n",
    "synopsis = df_touse['synopsis_processed']\n",
    "genre = df_touse['genre']\n",
    "title = df_touse['title']"
   ]
  },
  {
   "cell_type": "code",
   "execution_count": 16,
   "metadata": {},
   "outputs": [
    {
     "name": "stderr",
     "output_type": "stream",
     "text": [
      "C:\\Users\\samue\\AppData\\Local\\Temp\\ipykernel_8276\\3775668093.py:11: SettingWithCopyWarning: \n",
      "A value is trying to be set on a copy of a slice from a DataFrame.\n",
      "Try using .loc[row_indexer,col_indexer] = value instead\n",
      "\n",
      "See the caveats in the documentation: https://pandas.pydata.org/pandas-docs/stable/user_guide/indexing.html#returning-a-view-versus-a-copy\n",
      "  df_touse['words'] = words\n",
      "C:\\Users\\samue\\AppData\\Local\\Temp\\ipykernel_8276\\3775668093.py:14: SettingWithCopyWarning: \n",
      "A value is trying to be set on a copy of a slice from a DataFrame.\n",
      "Try using .loc[row_indexer,col_indexer] = value instead\n",
      "\n",
      "See the caveats in the documentation: https://pandas.pydata.org/pandas-docs/stable/user_guide/indexing.html#returning-a-view-versus-a-copy\n",
      "  df_touse['all_words'] = df_touse['genre'] + df_touse['words']\n"
     ]
    }
   ],
   "source": [
    "#extracting keywords for recommender\n",
    "rake = Rake()\n",
    "words = []\n",
    "for plot in synopsis:\n",
    "    rake.extract_keywords_from_text(str(plot))\n",
    "    keywords_i = rake.get_ranked_phrases()\n",
    "    keywords_i_string = \"\"\n",
    "    for keyword in keywords_i:\n",
    "        keywords_i_string = keywords_i_string + \" \" + keyword\n",
    "    words.append(keywords_i_string)\n",
    "df_touse['words'] = words\n",
    "\n",
    "#combining to use in vectorizer\n",
    "df_touse['all_words'] = df_touse['genre'] + df_touse['words']\n",
    "vectorizer = CountVectorizer()\n",
    "vectorized_bag_of_words = vectorizer.fit_transform(df_touse['all_words'])\n",
    "vectorized_bag_of_words = vectorized_bag_of_words.toarray()"
   ]
  },
  {
   "cell_type": "markdown",
   "metadata": {},
   "source": [
    "## Running recc models on CV'd words"
   ]
  },
  {
   "cell_type": "code",
   "execution_count": 17,
   "metadata": {},
   "outputs": [
    {
     "data": {
      "text/plain": [
       "['Fullmetal Alchemist: Brotherhood',\n",
       " 'Fullmetal Alchemist: The Sacred Star of Milos',\n",
       " 'Fullmetal Alchemist: The Conqueror of Shamballa',\n",
       " 'Fullmetal Alchemist: Brotherhood Specials',\n",
       " 'Oniichan dakedo Ai sae Areba Kankeinai yo ne!',\n",
       " 'Loveless',\n",
       " 'Fullmetal Alchemist: The Sacred Star of Milos Specials',\n",
       " 'Fairy Tail Movie 1: Houou no Miko',\n",
       " 'Fullmetal Alchemist: Reflections',\n",
       " 'Soukou no Strain']"
      ]
     },
     "execution_count": 17,
     "metadata": {},
     "output_type": "execute_result"
    }
   ],
   "source": [
    "recommend_reg(\"Fullmetal Alchemist\",10, vectorized_bag_of_words, title, df_touse)"
   ]
  },
  {
   "cell_type": "code",
   "execution_count": 18,
   "metadata": {},
   "outputs": [
    {
     "data": {
      "text/plain": [
       "['Oniichan dakedo Ai sae Areba Kankeinai yo ne!',\n",
       " 'Oniichan Zurui',\n",
       " 'Wana: Hakudaku Mamire no Houkago',\n",
       " 'Loveless',\n",
       " 'OZ',\n",
       " 'Aniki no Yome-san nara, Ore ni Hamerarete Hiihii Itteru Tokoro Da yo',\n",
       " 'Street Fighter Zero The Animation',\n",
       " 'Soukou no Strain',\n",
       " 'Mirai Shounen Conan 2: Taiga Daibouken',\n",
       " 'Sengoku Musou']"
      ]
     },
     "execution_count": 18,
     "metadata": {},
     "output_type": "execute_result"
    }
   ],
   "source": [
    "recommend_remove_sim(\"Fullmetal Alchemist\",10, vectorized_bag_of_words, title, df_touse)"
   ]
  },
  {
   "cell_type": "code",
   "execution_count": 19,
   "metadata": {},
   "outputs": [
    {
     "data": {
      "text/plain": [
       "['Loveless',\n",
       " 'Aniki no Yome-san nara, Ore ni Hamerarete Hiihii Itteru Tokoro Da yo',\n",
       " 'Street Fighter Zero The Animation',\n",
       " 'Oni',\n",
       " 'Fushigi na Melmo',\n",
       " 'Ta ga Tame no Alchemist',\n",
       " 'Futari wa Nakayoshi: Goo to Sue',\n",
       " 'Miboujin: Numeriau Nikuyoku to Midara ni Nureru Mitsusubo',\n",
       " 'Xing Chen Bian',\n",
       " 'Futago no Monchhichi']"
      ]
     },
     "execution_count": 19,
     "metadata": {},
     "output_type": "execute_result"
    }
   ],
   "source": [
    "recommend_all_sim(\"Fullmetal Alchemist\",10, vectorized_bag_of_words, title, df_touse)"
   ]
  },
  {
   "cell_type": "markdown",
   "metadata": {},
   "source": [
    "## Conclusion"
   ]
  },
  {
   "cell_type": "markdown",
   "metadata": {},
   "source": [
    "- Will consider the 3rd one the most optimal one, since it considers similar titles as one. (If you seen FMA:B, then you've prob seen all the movies associated with it)\n",
    "- Will also leave the first one (recc_reg) too incase user wants similarities including similar titles\n",
    "\n",
    "- But these recomendations overall for FMA:B suck ass. Loveless is Yaoi (hella gay)\n",
    "    - nothing wrong with gay, but homosexual male romance as 'similar' to FMA:B is A WILD STRETCH.\n",
    "- Seems like Loveless got recommended because the whole 'brother died or almost died' tragedy is in the synopsis, very similar to FMA, BUT THATS ABOUT IT and is considering that the most. \n",
    "- Other recomendations also seem brother related. \n",
    "    - Can safely conclude this is the result of synopsis being unweighted.\n",
    "\n",
    "\n",
    "\n",
    "The next iterations will use a different vectorizer method instead, Tfidf. It will also weigh Genre as double and synopsis as 1. Then this whole processed will be put into a function so we can do this vectorization to feature engineered shows"
   ]
  },
  {
   "cell_type": "markdown",
   "metadata": {},
   "source": [
    "# Using Tfidf + weights for synp and genre"
   ]
  },
  {
   "cell_type": "code",
   "execution_count": 20,
   "metadata": {},
   "outputs": [],
   "source": [
    "# Will need 'title' 'genre' and 'synop processed' for this vectorizer\n",
    "\n",
    "title = df_touse['title']\n",
    "vectorized_weighed = vectorize_genre_and_words(df_touse['genre'], df_touse['synopsis_processed'], genre_weight=1.5, words_weight=0.9)"
   ]
  },
  {
   "cell_type": "code",
   "execution_count": 21,
   "metadata": {},
   "outputs": [
    {
     "data": {
      "text/plain": [
       "['Fullmetal Alchemist: Brotherhood',\n",
       " 'Fullmetal Alchemist: The Sacred Star of Milos',\n",
       " 'Fullmetal Alchemist: Brotherhood Specials',\n",
       " 'Fullmetal Alchemist: The Conqueror of Shamballa',\n",
       " 'Fairy Tail',\n",
       " 'Fairy Tail (2014)',\n",
       " 'Fairy Tail Movie 1: Houou no Miko',\n",
       " 'Fairy Tail: Final Series',\n",
       " 'Magi: The Labyrinth of Magic',\n",
       " 'Magi: The Kingdom of Magic']"
      ]
     },
     "execution_count": 21,
     "metadata": {},
     "output_type": "execute_result"
    }
   ],
   "source": [
    "recommend_reg(\"Fullmetal Alchemist\",10, vectorized_weighed, title, df_touse)"
   ]
  },
  {
   "cell_type": "code",
   "execution_count": 22,
   "metadata": {},
   "outputs": [
    {
     "data": {
      "text/plain": [
       "['Tales of Vesperia: The First Strike',\n",
       " 'Fairy Tail Movie 1: Houou no Miko',\n",
       " 'Tide-Line Blue',\n",
       " 'Katsute Kami Datta Kemono-tachi e',\n",
       " 'Fairy Tail',\n",
       " 'Fairy Tail x Rave',\n",
       " 'Fairy Tail: Final Series',\n",
       " 'Fairy Tail Movie 2: Dragon Cry',\n",
       " 'Densetsu no Yuusha no Densetsu',\n",
       " 'Fire Emblem']"
      ]
     },
     "execution_count": 22,
     "metadata": {},
     "output_type": "execute_result"
    }
   ],
   "source": [
    "recommend_remove_sim(\"Fullmetal Alchemist\",10, vectorized_weighed, title, df_touse)"
   ]
  },
  {
   "cell_type": "code",
   "execution_count": 23,
   "metadata": {},
   "outputs": [
    {
     "data": {
      "text/plain": [
       "['Tales of Vesperia: The First Strike',\n",
       " 'Katsute Kami Datta Kemono-tachi e',\n",
       " 'Fairy Tail',\n",
       " 'Fairy Tail: Final Series',\n",
       " 'Densetsu no Yuusha no Densetsu',\n",
       " 'Fire Emblem',\n",
       " 'Dragon Quest: Dai no Daibouken Buchiyabure!! Shinsei 6 Daishougun',\n",
       " 'Slayers Great',\n",
       " 'One Piece Film: Strong World',\n",
       " 'Slayers: The Motion Picture']"
      ]
     },
     "execution_count": 23,
     "metadata": {},
     "output_type": "execute_result"
    }
   ],
   "source": [
    "recommend_all_sim(\"Fullmetal Alchemist\",10, vectorized_weighed, title, df_touse)"
   ]
  },
  {
   "cell_type": "markdown",
   "metadata": {},
   "source": [
    "## Conclusion:\n",
    "- Seems like using tfidf and weighing genre more has helped."
   ]
  },
  {
   "cell_type": "markdown",
   "metadata": {},
   "source": [
    "# Feature Engineered Df"
   ]
  },
  {
   "cell_type": "markdown",
   "metadata": {},
   "source": [
    "## Creating engineered df 1"
   ]
  },
  {
   "cell_type": "code",
   "execution_count": 24,
   "metadata": {},
   "outputs": [],
   "source": [
    "# Creating top 1000 in popularity\n",
    "df_anime_sorted = df_anime.sort_values('popularity', ascending = True)\n",
    "\n",
    "df_anime_sorted.head(5)\n",
    "df_top_1000 = df_anime_sorted.head(1000)\n",
    "\n",
    "# Below will be process for feature engineered df's.\n",
    "# Will need 'title' 'genre' and 'synop processed' for this vectorizer\n",
    "\n",
    "title_t1000 = df_top_1000['title']\n",
    "vectorized_weighed_t1000 = vectorize_genre_and_words(df_top_1000['genre'], df_top_1000['synopsis_processed'], genre_weight=1.5, words_weight=0.9)"
   ]
  },
  {
   "cell_type": "markdown",
   "metadata": {},
   "source": [
    "## Running recc models of featured engineerd 1"
   ]
  },
  {
   "cell_type": "code",
   "execution_count": 25,
   "metadata": {},
   "outputs": [
    {
     "data": {
      "text/plain": [
       "['Fullmetal Alchemist: Brotherhood',\n",
       " 'Fairy Tail',\n",
       " 'Fairy Tail (2014)',\n",
       " 'Magi: The Labyrinth of Magic',\n",
       " 'Akame ga Kill!',\n",
       " 'Magi: The Kingdom of Magic',\n",
       " 'Gate: Jieitai Kanochi nite, Kaku Tatakaeri',\n",
       " 'Nanatsu no Taizai',\n",
       " 'Nanatsu no Taizai: Imashime no Fukkatsu',\n",
       " 'Black Clover']"
      ]
     },
     "execution_count": 25,
     "metadata": {},
     "output_type": "execute_result"
    }
   ],
   "source": [
    "recommend_reg(\"Fullmetal Alchemist\",10, vectorized_weighed_t1000, title_t1000, df_top_1000)"
   ]
  },
  {
   "cell_type": "code",
   "execution_count": 26,
   "metadata": {},
   "outputs": [
    {
     "data": {
      "text/plain": [
       "['Fairy Tail Movie 1: Houou no Miko',\n",
       " 'Fairy Tail',\n",
       " 'Fairy Tail: Final Series',\n",
       " 'Fairy Tail (2014)',\n",
       " 'Densetsu no Yuusha no Densetsu',\n",
       " 'Magi: Sinbad no Bouken (TV)',\n",
       " 'Magi: The Labyrinth of Magic',\n",
       " 'Magi: The Kingdom of Magic',\n",
       " 'Nejimaki Seirei Senki: Tenkyou no Alderamin',\n",
       " 'Gate: Jieitai Kanochi nite, Kaku Tatakaeri']"
      ]
     },
     "execution_count": 26,
     "metadata": {},
     "output_type": "execute_result"
    }
   ],
   "source": [
    "recommend_remove_sim(\"Fullmetal Alchemist\",10, vectorized_weighed_t1000, title_t1000, df_top_1000)"
   ]
  },
  {
   "cell_type": "code",
   "execution_count": 27,
   "metadata": {},
   "outputs": [
    {
     "data": {
      "text/plain": [
       "['Fairy Tail',\n",
       " 'Fairy Tail: Final Series',\n",
       " 'Densetsu no Yuusha no Densetsu',\n",
       " 'Nejimaki Seirei Senki: Tenkyou no Alderamin',\n",
       " 'Gate: Jieitai Kanochi nite, Kaku Tatakaeri',\n",
       " 'Gate: Jieitai Kanochi nite, Kaku Tatakaeri 2nd Season',\n",
       " 'One Piece Film: Strong World',\n",
       " 'Black Clover',\n",
       " 'Akame ga Kill!',\n",
       " 'Tales of Zestiria the Cross']"
      ]
     },
     "execution_count": 27,
     "metadata": {},
     "output_type": "execute_result"
    }
   ],
   "source": [
    "recommend_all_sim(\"Fullmetal Alchemist\",10, vectorized_weighed_t1000, title_t1000, df_top_1000)"
   ]
  },
  {
   "cell_type": "markdown",
   "metadata": {},
   "source": [
    "## Feat Engineered 2: New df imported from EDA_3\n",
    "- This df has removed most shows which are 2 or less episodes. These are movies and do not need to show up in the recc for shows."
   ]
  },
  {
   "cell_type": "code",
   "execution_count": 28,
   "metadata": {},
   "outputs": [],
   "source": [
    "df_anime_nomov = pd.read_csv(\"../data/df_anime_nomovie.csv\")"
   ]
  },
  {
   "cell_type": "code",
   "execution_count": 33,
   "metadata": {},
   "outputs": [],
   "source": [
    "df_anime_nomov.dropna(inplace = True)"
   ]
  },
  {
   "cell_type": "code",
   "execution_count": 34,
   "metadata": {},
   "outputs": [],
   "source": [
    "#Process before running rec:\n",
    "nomovie_title = df_anime_nomov['title']\n",
    "vectorized_no_movie = vectorize_genre_and_words(df_anime_nomov['genre'], df_anime_nomov['synopsis_processed'], genre_weight=1.5, words_weight=0.9)"
   ]
  },
  {
   "cell_type": "markdown",
   "metadata": {},
   "source": [
    "## Running recc on feat engineered 2"
   ]
  },
  {
   "cell_type": "code",
   "execution_count": 35,
   "metadata": {},
   "outputs": [
    {
     "data": {
      "text/plain": [
       "['Fullmetal Alchemist: Brotherhood',\n",
       " 'Fullmetal Alchemist: The Sacred Star of Milos',\n",
       " 'Fullmetal Alchemist: Brotherhood Specials',\n",
       " 'Fullmetal Alchemist: The Conqueror of Shamballa',\n",
       " 'Fairy Tail',\n",
       " 'Fairy Tail (2014)',\n",
       " 'Fairy Tail Movie 1: Houou no Miko',\n",
       " 'Fairy Tail: Final Series',\n",
       " 'Magi: The Labyrinth of Magic',\n",
       " 'Magi: The Kingdom of Magic']"
      ]
     },
     "execution_count": 35,
     "metadata": {},
     "output_type": "execute_result"
    }
   ],
   "source": [
    "recommend_reg(\"Fullmetal Alchemist\",10, vectorized_no_movie, nomovie_title, df_anime_nomov)"
   ]
  },
  {
   "cell_type": "code",
   "execution_count": 36,
   "metadata": {},
   "outputs": [
    {
     "data": {
      "text/plain": [
       "['Tide-Line Blue',\n",
       " 'Katsute Kami Datta Kemono-tachi e',\n",
       " 'Fairy Tail Movie 1: Houou no Miko',\n",
       " 'Fairy Tail',\n",
       " 'Fairy Tail: Final Series',\n",
       " 'Fairy Tail (2014)',\n",
       " 'Densetsu no Yuusha no Densetsu',\n",
       " 'Magi: Sinbad no Bouken (TV)',\n",
       " 'Magi: Sinbad no Bouken',\n",
       " 'Magi: The Labyrinth of Magic']"
      ]
     },
     "execution_count": 36,
     "metadata": {},
     "output_type": "execute_result"
    }
   ],
   "source": [
    "recommend_remove_sim(\"Fullmetal Alchemist\",10, vectorized_no_movie, nomovie_title, df_anime_nomov)"
   ]
  },
  {
   "cell_type": "code",
   "execution_count": 40,
   "metadata": {},
   "outputs": [
    {
     "data": {
      "text/plain": [
       "['Katsute Kami Datta Kemono-tachi e',\n",
       " 'Fairy Tail',\n",
       " 'Fairy Tail: Final Series',\n",
       " 'Densetsu no Yuusha no Densetsu',\n",
       " 'Chain Chronicle: Short Animation',\n",
       " 'One Piece Film: Strong World',\n",
       " 'Nejimaki Seirei Senki: Tenkyou no Alderamin',\n",
       " 'Gate: Jieitai Kanochi nite, Kaku Tatakaeri',\n",
       " 'Gate: Jieitai Kanochi nite, Kaku Tatakaeri 2nd Season',\n",
       " 'Black Clover']"
      ]
     },
     "execution_count": 40,
     "metadata": {},
     "output_type": "execute_result"
    }
   ],
   "source": [
    "recommend_all_sim(\"Fullmetal Alchemist\",10, vectorized_no_movie, nomovie_title, df_anime_nomov)"
   ]
  },
  {
   "cell_type": "markdown",
   "metadata": {},
   "source": [
    "## Conclusion so far:\n",
    "- I believe this feat engineered is the best I can get.\n",
    "\n",
    "- The final model to push to streamlit will be:\n",
    "    - df: df_anime_nomovie.csv\n",
    "    - rec model: recommend_all_sim\n",
    "        - will also put in reg incase user wants to see recommended within the same series\n",
    "    "
   ]
  }
 ],
 "metadata": {
  "kernelspec": {
   "display_name": "base",
   "language": "python",
   "name": "python3"
  },
  "language_info": {
   "codemirror_mode": {
    "name": "ipython",
    "version": 3
   },
   "file_extension": ".py",
   "mimetype": "text/x-python",
   "name": "python",
   "nbconvert_exporter": "python",
   "pygments_lexer": "ipython3",
   "version": "3.10.9"
  },
  "orig_nbformat": 4
 },
 "nbformat": 4,
 "nbformat_minor": 2
}
